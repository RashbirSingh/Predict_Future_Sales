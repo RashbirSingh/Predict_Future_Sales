{
 "cells": [
  {
   "cell_type": "markdown",
   "metadata": {},
   "source": [
    "# Importing Libraries"
   ]
  },
  {
   "cell_type": "code",
   "execution_count": 1,
   "metadata": {},
   "outputs": [],
   "source": [
    "import pandas as pd\n",
    "import numpy as np\n",
    "import matplotlib.pyplot as plt\n",
    "import re\n",
    "from googletrans import Translator\n",
    "pd.set_option('display.max_columns', 1000000, 'display.max_rows', 1000000)"
   ]
  },
  {
   "cell_type": "markdown",
   "metadata": {},
   "source": [
    "# File descriptions\n",
    "* **sales_train.csv** - the training set. Daily historical data from January 2013 to October 2015.\n",
    "* **test.csv** - the test set. You need to forecast the sales for these shops and products for November 2015.\n",
    "* **sample_submission.csv** - a sample submission file in the correct format.\n",
    "* **items.csv** - supplemental information about the items/products.\n",
    "* **item_categories.csv**  - supplemental information about the items categories.\n",
    "* **shops.csv**- supplemental information about the shops.\n",
    "\n",
    "# Data fields\n",
    "* **ID** - an Id that represents a (Shop, Item) tuple within the test set\n",
    "* **shop_id** - unique identifier of a shop\n",
    "* **item_id** - unique identifier of a product\n",
    "* **item_category_id** - unique identifier of item category\n",
    "* **item_cnt_day** - number of products sold. You are predicting a monthly amount of this measure\n",
    "* **item_price** - current price of an item\n",
    "* **date** - date in format dd/mm/yyyy\n",
    "* **date_block_num** - a consecutive month number, used for convenience. January 2013 is 0, February 2013 is 1,..., October 2015 is 33\n",
    "* **item_name** - name of item\n",
    "* **shop_name** - name of shop\n",
    "* **item_category_name** - name of item category"
   ]
  },
  {
   "cell_type": "markdown",
   "metadata": {},
   "source": [
    "# Reading Data Set"
   ]
  },
  {
   "cell_type": "code",
   "execution_count": 78,
   "metadata": {},
   "outputs": [],
   "source": [
    "sales_train = pd.read_csv(\"sales_train.csv\")\n",
    "items = pd.read_csv(\"items.csv\")\n",
    "item_categories = pd.read_csv(\"item_categories.csv\") \n",
    "shops = pd.read_csv(\"shops.csv\")"
   ]
  },
  {
   "cell_type": "markdown",
   "metadata": {},
   "source": [
    "# Getting basic insight of data frames"
   ]
  },
  {
   "cell_type": "code",
   "execution_count": 79,
   "metadata": {},
   "outputs": [
    {
     "name": "stdout",
     "output_type": "stream",
     "text": [
      " sales_train ->  (2935849, 6) \n",
      " items ->  (22170, 3) \n",
      " item_categories ->  (84, 2) \n",
      " shops ->  (60, 2)\n"
     ]
    }
   ],
   "source": [
    "print(\" sales_train -> \", sales_train.shape, \"\\n\",\n",
    "     \"items -> \", items.shape, \"\\n\",\n",
    "     \"item_categories -> \", item_categories.shape, \"\\n\",\n",
    "     \"shops -> \", shops.shape)"
   ]
  },
  {
   "cell_type": "markdown",
   "metadata": {},
   "source": [
    "### ----------------------------------------->>     sales_train  <<------------------------------------------------------###"
   ]
  },
  {
   "cell_type": "code",
   "execution_count": 80,
   "metadata": {},
   "outputs": [
    {
     "data": {
      "text/plain": [
       "(Index(['date', 'date_block_num', 'shop_id', 'item_id', 'item_price',\n",
       "        'item_cnt_day'],\n",
       "       dtype='object'), 6)"
      ]
     },
     "execution_count": 80,
     "metadata": {},
     "output_type": "execute_result"
    }
   ],
   "source": [
    "sales_train.columns, len(sales_train.columns)"
   ]
  },
  {
   "cell_type": "code",
   "execution_count": 81,
   "metadata": {},
   "outputs": [
    {
     "data": {
      "text/html": [
       "<div>\n",
       "<style scoped>\n",
       "    .dataframe tbody tr th:only-of-type {\n",
       "        vertical-align: middle;\n",
       "    }\n",
       "\n",
       "    .dataframe tbody tr th {\n",
       "        vertical-align: top;\n",
       "    }\n",
       "\n",
       "    .dataframe thead th {\n",
       "        text-align: right;\n",
       "    }\n",
       "</style>\n",
       "<table border=\"1\" class=\"dataframe\">\n",
       "  <thead>\n",
       "    <tr style=\"text-align: right;\">\n",
       "      <th></th>\n",
       "      <th>date</th>\n",
       "      <th>date_block_num</th>\n",
       "      <th>shop_id</th>\n",
       "      <th>item_id</th>\n",
       "      <th>item_price</th>\n",
       "      <th>item_cnt_day</th>\n",
       "    </tr>\n",
       "  </thead>\n",
       "  <tbody>\n",
       "    <tr>\n",
       "      <th>0</th>\n",
       "      <td>02.01.2013</td>\n",
       "      <td>0</td>\n",
       "      <td>59</td>\n",
       "      <td>22154</td>\n",
       "      <td>999.00</td>\n",
       "      <td>1.0</td>\n",
       "    </tr>\n",
       "    <tr>\n",
       "      <th>1</th>\n",
       "      <td>03.01.2013</td>\n",
       "      <td>0</td>\n",
       "      <td>25</td>\n",
       "      <td>2552</td>\n",
       "      <td>899.00</td>\n",
       "      <td>1.0</td>\n",
       "    </tr>\n",
       "    <tr>\n",
       "      <th>2</th>\n",
       "      <td>05.01.2013</td>\n",
       "      <td>0</td>\n",
       "      <td>25</td>\n",
       "      <td>2552</td>\n",
       "      <td>899.00</td>\n",
       "      <td>-1.0</td>\n",
       "    </tr>\n",
       "    <tr>\n",
       "      <th>3</th>\n",
       "      <td>06.01.2013</td>\n",
       "      <td>0</td>\n",
       "      <td>25</td>\n",
       "      <td>2554</td>\n",
       "      <td>1709.05</td>\n",
       "      <td>1.0</td>\n",
       "    </tr>\n",
       "    <tr>\n",
       "      <th>4</th>\n",
       "      <td>15.01.2013</td>\n",
       "      <td>0</td>\n",
       "      <td>25</td>\n",
       "      <td>2555</td>\n",
       "      <td>1099.00</td>\n",
       "      <td>1.0</td>\n",
       "    </tr>\n",
       "  </tbody>\n",
       "</table>\n",
       "</div>"
      ],
      "text/plain": [
       "         date  date_block_num  shop_id  item_id  item_price  item_cnt_day\n",
       "0  02.01.2013               0       59    22154      999.00           1.0\n",
       "1  03.01.2013               0       25     2552      899.00           1.0\n",
       "2  05.01.2013               0       25     2552      899.00          -1.0\n",
       "3  06.01.2013               0       25     2554     1709.05           1.0\n",
       "4  15.01.2013               0       25     2555     1099.00           1.0"
      ]
     },
     "execution_count": 81,
     "metadata": {},
     "output_type": "execute_result"
    }
   ],
   "source": [
    "sales_train.head()"
   ]
  },
  {
   "cell_type": "code",
   "execution_count": 82,
   "metadata": {},
   "outputs": [
    {
     "name": "stdout",
     "output_type": "stream",
     "text": [
      "<class 'pandas.core.frame.DataFrame'>\n",
      "RangeIndex: 2935849 entries, 0 to 2935848\n",
      "Data columns (total 6 columns):\n",
      "date              object\n",
      "date_block_num    int64\n",
      "shop_id           int64\n",
      "item_id           int64\n",
      "item_price        float64\n",
      "item_cnt_day      float64\n",
      "dtypes: float64(2), int64(3), object(1)\n",
      "memory usage: 134.4+ MB\n"
     ]
    }
   ],
   "source": [
    "sales_train.info()"
   ]
  },
  {
   "cell_type": "code",
   "execution_count": 83,
   "metadata": {},
   "outputs": [
    {
     "data": {
      "text/html": [
       "<div>\n",
       "<style scoped>\n",
       "    .dataframe tbody tr th:only-of-type {\n",
       "        vertical-align: middle;\n",
       "    }\n",
       "\n",
       "    .dataframe tbody tr th {\n",
       "        vertical-align: top;\n",
       "    }\n",
       "\n",
       "    .dataframe thead th {\n",
       "        text-align: right;\n",
       "    }\n",
       "</style>\n",
       "<table border=\"1\" class=\"dataframe\">\n",
       "  <thead>\n",
       "    <tr style=\"text-align: right;\">\n",
       "      <th></th>\n",
       "      <th>date_block_num</th>\n",
       "      <th>shop_id</th>\n",
       "      <th>item_id</th>\n",
       "      <th>item_price</th>\n",
       "      <th>item_cnt_day</th>\n",
       "    </tr>\n",
       "  </thead>\n",
       "  <tbody>\n",
       "    <tr>\n",
       "      <th>count</th>\n",
       "      <td>2.935849e+06</td>\n",
       "      <td>2.935849e+06</td>\n",
       "      <td>2.935849e+06</td>\n",
       "      <td>2.935849e+06</td>\n",
       "      <td>2.935849e+06</td>\n",
       "    </tr>\n",
       "    <tr>\n",
       "      <th>mean</th>\n",
       "      <td>1.456991e+01</td>\n",
       "      <td>3.300173e+01</td>\n",
       "      <td>1.019723e+04</td>\n",
       "      <td>8.908532e+02</td>\n",
       "      <td>1.242641e+00</td>\n",
       "    </tr>\n",
       "    <tr>\n",
       "      <th>std</th>\n",
       "      <td>9.422988e+00</td>\n",
       "      <td>1.622697e+01</td>\n",
       "      <td>6.324297e+03</td>\n",
       "      <td>1.729800e+03</td>\n",
       "      <td>2.618834e+00</td>\n",
       "    </tr>\n",
       "    <tr>\n",
       "      <th>min</th>\n",
       "      <td>0.000000e+00</td>\n",
       "      <td>0.000000e+00</td>\n",
       "      <td>0.000000e+00</td>\n",
       "      <td>-1.000000e+00</td>\n",
       "      <td>-2.200000e+01</td>\n",
       "    </tr>\n",
       "    <tr>\n",
       "      <th>25%</th>\n",
       "      <td>7.000000e+00</td>\n",
       "      <td>2.200000e+01</td>\n",
       "      <td>4.476000e+03</td>\n",
       "      <td>2.490000e+02</td>\n",
       "      <td>1.000000e+00</td>\n",
       "    </tr>\n",
       "    <tr>\n",
       "      <th>50%</th>\n",
       "      <td>1.400000e+01</td>\n",
       "      <td>3.100000e+01</td>\n",
       "      <td>9.343000e+03</td>\n",
       "      <td>3.990000e+02</td>\n",
       "      <td>1.000000e+00</td>\n",
       "    </tr>\n",
       "    <tr>\n",
       "      <th>75%</th>\n",
       "      <td>2.300000e+01</td>\n",
       "      <td>4.700000e+01</td>\n",
       "      <td>1.568400e+04</td>\n",
       "      <td>9.990000e+02</td>\n",
       "      <td>1.000000e+00</td>\n",
       "    </tr>\n",
       "    <tr>\n",
       "      <th>max</th>\n",
       "      <td>3.300000e+01</td>\n",
       "      <td>5.900000e+01</td>\n",
       "      <td>2.216900e+04</td>\n",
       "      <td>3.079800e+05</td>\n",
       "      <td>2.169000e+03</td>\n",
       "    </tr>\n",
       "  </tbody>\n",
       "</table>\n",
       "</div>"
      ],
      "text/plain": [
       "       date_block_num       shop_id       item_id    item_price  item_cnt_day\n",
       "count    2.935849e+06  2.935849e+06  2.935849e+06  2.935849e+06  2.935849e+06\n",
       "mean     1.456991e+01  3.300173e+01  1.019723e+04  8.908532e+02  1.242641e+00\n",
       "std      9.422988e+00  1.622697e+01  6.324297e+03  1.729800e+03  2.618834e+00\n",
       "min      0.000000e+00  0.000000e+00  0.000000e+00 -1.000000e+00 -2.200000e+01\n",
       "25%      7.000000e+00  2.200000e+01  4.476000e+03  2.490000e+02  1.000000e+00\n",
       "50%      1.400000e+01  3.100000e+01  9.343000e+03  3.990000e+02  1.000000e+00\n",
       "75%      2.300000e+01  4.700000e+01  1.568400e+04  9.990000e+02  1.000000e+00\n",
       "max      3.300000e+01  5.900000e+01  2.216900e+04  3.079800e+05  2.169000e+03"
      ]
     },
     "execution_count": 83,
     "metadata": {},
     "output_type": "execute_result"
    }
   ],
   "source": [
    "sales_train.describe()"
   ]
  },
  {
   "cell_type": "markdown",
   "metadata": {},
   "source": [
    "### ----------------------------------------->>     items    <<------------------------------------------------------###"
   ]
  },
  {
   "cell_type": "code",
   "execution_count": 84,
   "metadata": {},
   "outputs": [
    {
     "data": {
      "text/plain": [
       "(Index(['item_name', 'item_id', 'item_category_id'], dtype='object'), 3)"
      ]
     },
     "execution_count": 84,
     "metadata": {},
     "output_type": "execute_result"
    }
   ],
   "source": [
    "items.columns, len(items.columns)"
   ]
  },
  {
   "cell_type": "code",
   "execution_count": 85,
   "metadata": {},
   "outputs": [
    {
     "data": {
      "text/html": [
       "<div>\n",
       "<style scoped>\n",
       "    .dataframe tbody tr th:only-of-type {\n",
       "        vertical-align: middle;\n",
       "    }\n",
       "\n",
       "    .dataframe tbody tr th {\n",
       "        vertical-align: top;\n",
       "    }\n",
       "\n",
       "    .dataframe thead th {\n",
       "        text-align: right;\n",
       "    }\n",
       "</style>\n",
       "<table border=\"1\" class=\"dataframe\">\n",
       "  <thead>\n",
       "    <tr style=\"text-align: right;\">\n",
       "      <th></th>\n",
       "      <th>item_name</th>\n",
       "      <th>item_id</th>\n",
       "      <th>item_category_id</th>\n",
       "    </tr>\n",
       "  </thead>\n",
       "  <tbody>\n",
       "    <tr>\n",
       "      <th>0</th>\n",
       "      <td>! ВО ВЛАСТИ НАВАЖДЕНИЯ (ПЛАСТ.)         D</td>\n",
       "      <td>0</td>\n",
       "      <td>40</td>\n",
       "    </tr>\n",
       "    <tr>\n",
       "      <th>1</th>\n",
       "      <td>!ABBYY FineReader 12 Professional Edition Full...</td>\n",
       "      <td>1</td>\n",
       "      <td>76</td>\n",
       "    </tr>\n",
       "    <tr>\n",
       "      <th>2</th>\n",
       "      <td>***В ЛУЧАХ СЛАВЫ   (UNV)                    D</td>\n",
       "      <td>2</td>\n",
       "      <td>40</td>\n",
       "    </tr>\n",
       "    <tr>\n",
       "      <th>3</th>\n",
       "      <td>***ГОЛУБАЯ ВОЛНА  (Univ)                      D</td>\n",
       "      <td>3</td>\n",
       "      <td>40</td>\n",
       "    </tr>\n",
       "    <tr>\n",
       "      <th>4</th>\n",
       "      <td>***КОРОБКА (СТЕКЛО)                       D</td>\n",
       "      <td>4</td>\n",
       "      <td>40</td>\n",
       "    </tr>\n",
       "  </tbody>\n",
       "</table>\n",
       "</div>"
      ],
      "text/plain": [
       "                                           item_name  item_id  \\\n",
       "0          ! ВО ВЛАСТИ НАВАЖДЕНИЯ (ПЛАСТ.)         D        0   \n",
       "1  !ABBYY FineReader 12 Professional Edition Full...        1   \n",
       "2      ***В ЛУЧАХ СЛАВЫ   (UNV)                    D        2   \n",
       "3    ***ГОЛУБАЯ ВОЛНА  (Univ)                      D        3   \n",
       "4        ***КОРОБКА (СТЕКЛО)                       D        4   \n",
       "\n",
       "   item_category_id  \n",
       "0                40  \n",
       "1                76  \n",
       "2                40  \n",
       "3                40  \n",
       "4                40  "
      ]
     },
     "execution_count": 85,
     "metadata": {},
     "output_type": "execute_result"
    }
   ],
   "source": [
    "items.head()"
   ]
  },
  {
   "cell_type": "code",
   "execution_count": 86,
   "metadata": {},
   "outputs": [
    {
     "name": "stdout",
     "output_type": "stream",
     "text": [
      "<class 'pandas.core.frame.DataFrame'>\n",
      "RangeIndex: 22170 entries, 0 to 22169\n",
      "Data columns (total 3 columns):\n",
      "item_name           22170 non-null object\n",
      "item_id             22170 non-null int64\n",
      "item_category_id    22170 non-null int64\n",
      "dtypes: int64(2), object(1)\n",
      "memory usage: 519.7+ KB\n"
     ]
    }
   ],
   "source": [
    "items.info()"
   ]
  },
  {
   "cell_type": "code",
   "execution_count": 87,
   "metadata": {},
   "outputs": [
    {
     "data": {
      "text/html": [
       "<div>\n",
       "<style scoped>\n",
       "    .dataframe tbody tr th:only-of-type {\n",
       "        vertical-align: middle;\n",
       "    }\n",
       "\n",
       "    .dataframe tbody tr th {\n",
       "        vertical-align: top;\n",
       "    }\n",
       "\n",
       "    .dataframe thead th {\n",
       "        text-align: right;\n",
       "    }\n",
       "</style>\n",
       "<table border=\"1\" class=\"dataframe\">\n",
       "  <thead>\n",
       "    <tr style=\"text-align: right;\">\n",
       "      <th></th>\n",
       "      <th>item_id</th>\n",
       "      <th>item_category_id</th>\n",
       "    </tr>\n",
       "  </thead>\n",
       "  <tbody>\n",
       "    <tr>\n",
       "      <th>count</th>\n",
       "      <td>22170.00000</td>\n",
       "      <td>22170.000000</td>\n",
       "    </tr>\n",
       "    <tr>\n",
       "      <th>mean</th>\n",
       "      <td>11084.50000</td>\n",
       "      <td>46.290753</td>\n",
       "    </tr>\n",
       "    <tr>\n",
       "      <th>std</th>\n",
       "      <td>6400.07207</td>\n",
       "      <td>15.941486</td>\n",
       "    </tr>\n",
       "    <tr>\n",
       "      <th>min</th>\n",
       "      <td>0.00000</td>\n",
       "      <td>0.000000</td>\n",
       "    </tr>\n",
       "    <tr>\n",
       "      <th>25%</th>\n",
       "      <td>5542.25000</td>\n",
       "      <td>37.000000</td>\n",
       "    </tr>\n",
       "    <tr>\n",
       "      <th>50%</th>\n",
       "      <td>11084.50000</td>\n",
       "      <td>40.000000</td>\n",
       "    </tr>\n",
       "    <tr>\n",
       "      <th>75%</th>\n",
       "      <td>16626.75000</td>\n",
       "      <td>58.000000</td>\n",
       "    </tr>\n",
       "    <tr>\n",
       "      <th>max</th>\n",
       "      <td>22169.00000</td>\n",
       "      <td>83.000000</td>\n",
       "    </tr>\n",
       "  </tbody>\n",
       "</table>\n",
       "</div>"
      ],
      "text/plain": [
       "           item_id  item_category_id\n",
       "count  22170.00000      22170.000000\n",
       "mean   11084.50000         46.290753\n",
       "std     6400.07207         15.941486\n",
       "min        0.00000          0.000000\n",
       "25%     5542.25000         37.000000\n",
       "50%    11084.50000         40.000000\n",
       "75%    16626.75000         58.000000\n",
       "max    22169.00000         83.000000"
      ]
     },
     "execution_count": 87,
     "metadata": {},
     "output_type": "execute_result"
    }
   ],
   "source": [
    "items.describe()"
   ]
  },
  {
   "cell_type": "markdown",
   "metadata": {},
   "source": [
    "### ----------------------------------------->>     item_categories    <<------------------------------------------------------###"
   ]
  },
  {
   "cell_type": "code",
   "execution_count": 88,
   "metadata": {},
   "outputs": [
    {
     "data": {
      "text/plain": [
       "(Index(['item_category_name', 'item_category_id'], dtype='object'), 2)"
      ]
     },
     "execution_count": 88,
     "metadata": {},
     "output_type": "execute_result"
    }
   ],
   "source": [
    "item_categories.columns, len(item_categories.columns)"
   ]
  },
  {
   "cell_type": "code",
   "execution_count": 89,
   "metadata": {},
   "outputs": [
    {
     "data": {
      "text/html": [
       "<div>\n",
       "<style scoped>\n",
       "    .dataframe tbody tr th:only-of-type {\n",
       "        vertical-align: middle;\n",
       "    }\n",
       "\n",
       "    .dataframe tbody tr th {\n",
       "        vertical-align: top;\n",
       "    }\n",
       "\n",
       "    .dataframe thead th {\n",
       "        text-align: right;\n",
       "    }\n",
       "</style>\n",
       "<table border=\"1\" class=\"dataframe\">\n",
       "  <thead>\n",
       "    <tr style=\"text-align: right;\">\n",
       "      <th></th>\n",
       "      <th>item_category_name</th>\n",
       "      <th>item_category_id</th>\n",
       "    </tr>\n",
       "  </thead>\n",
       "  <tbody>\n",
       "    <tr>\n",
       "      <th>0</th>\n",
       "      <td>PC - Гарнитуры/Наушники</td>\n",
       "      <td>0</td>\n",
       "    </tr>\n",
       "    <tr>\n",
       "      <th>1</th>\n",
       "      <td>Аксессуары - PS2</td>\n",
       "      <td>1</td>\n",
       "    </tr>\n",
       "    <tr>\n",
       "      <th>2</th>\n",
       "      <td>Аксессуары - PS3</td>\n",
       "      <td>2</td>\n",
       "    </tr>\n",
       "    <tr>\n",
       "      <th>3</th>\n",
       "      <td>Аксессуары - PS4</td>\n",
       "      <td>3</td>\n",
       "    </tr>\n",
       "    <tr>\n",
       "      <th>4</th>\n",
       "      <td>Аксессуары - PSP</td>\n",
       "      <td>4</td>\n",
       "    </tr>\n",
       "  </tbody>\n",
       "</table>\n",
       "</div>"
      ],
      "text/plain": [
       "        item_category_name  item_category_id\n",
       "0  PC - Гарнитуры/Наушники                 0\n",
       "1         Аксессуары - PS2                 1\n",
       "2         Аксессуары - PS3                 2\n",
       "3         Аксессуары - PS4                 3\n",
       "4         Аксессуары - PSP                 4"
      ]
     },
     "execution_count": 89,
     "metadata": {},
     "output_type": "execute_result"
    }
   ],
   "source": [
    "item_categories.head()"
   ]
  },
  {
   "cell_type": "code",
   "execution_count": 90,
   "metadata": {},
   "outputs": [
    {
     "name": "stdout",
     "output_type": "stream",
     "text": [
      "<class 'pandas.core.frame.DataFrame'>\n",
      "RangeIndex: 84 entries, 0 to 83\n",
      "Data columns (total 2 columns):\n",
      "item_category_name    84 non-null object\n",
      "item_category_id      84 non-null int64\n",
      "dtypes: int64(1), object(1)\n",
      "memory usage: 1.4+ KB\n"
     ]
    }
   ],
   "source": [
    "item_categories.info()"
   ]
  },
  {
   "cell_type": "code",
   "execution_count": 91,
   "metadata": {},
   "outputs": [
    {
     "data": {
      "text/html": [
       "<div>\n",
       "<style scoped>\n",
       "    .dataframe tbody tr th:only-of-type {\n",
       "        vertical-align: middle;\n",
       "    }\n",
       "\n",
       "    .dataframe tbody tr th {\n",
       "        vertical-align: top;\n",
       "    }\n",
       "\n",
       "    .dataframe thead th {\n",
       "        text-align: right;\n",
       "    }\n",
       "</style>\n",
       "<table border=\"1\" class=\"dataframe\">\n",
       "  <thead>\n",
       "    <tr style=\"text-align: right;\">\n",
       "      <th></th>\n",
       "      <th>item_category_id</th>\n",
       "    </tr>\n",
       "  </thead>\n",
       "  <tbody>\n",
       "    <tr>\n",
       "      <th>count</th>\n",
       "      <td>84.000000</td>\n",
       "    </tr>\n",
       "    <tr>\n",
       "      <th>mean</th>\n",
       "      <td>41.500000</td>\n",
       "    </tr>\n",
       "    <tr>\n",
       "      <th>std</th>\n",
       "      <td>24.392622</td>\n",
       "    </tr>\n",
       "    <tr>\n",
       "      <th>min</th>\n",
       "      <td>0.000000</td>\n",
       "    </tr>\n",
       "    <tr>\n",
       "      <th>25%</th>\n",
       "      <td>20.750000</td>\n",
       "    </tr>\n",
       "    <tr>\n",
       "      <th>50%</th>\n",
       "      <td>41.500000</td>\n",
       "    </tr>\n",
       "    <tr>\n",
       "      <th>75%</th>\n",
       "      <td>62.250000</td>\n",
       "    </tr>\n",
       "    <tr>\n",
       "      <th>max</th>\n",
       "      <td>83.000000</td>\n",
       "    </tr>\n",
       "  </tbody>\n",
       "</table>\n",
       "</div>"
      ],
      "text/plain": [
       "       item_category_id\n",
       "count         84.000000\n",
       "mean          41.500000\n",
       "std           24.392622\n",
       "min            0.000000\n",
       "25%           20.750000\n",
       "50%           41.500000\n",
       "75%           62.250000\n",
       "max           83.000000"
      ]
     },
     "execution_count": 91,
     "metadata": {},
     "output_type": "execute_result"
    }
   ],
   "source": [
    "item_categories.describe()"
   ]
  },
  {
   "cell_type": "markdown",
   "metadata": {},
   "source": [
    "### ----------------------------------------->>     shops    <<------------------------------------------------------###"
   ]
  },
  {
   "cell_type": "code",
   "execution_count": 92,
   "metadata": {},
   "outputs": [
    {
     "data": {
      "text/plain": [
       "(Index(['shop_name', 'shop_id'], dtype='object'), 2)"
      ]
     },
     "execution_count": 92,
     "metadata": {},
     "output_type": "execute_result"
    }
   ],
   "source": [
    "shops.columns, len(shops.columns)"
   ]
  },
  {
   "cell_type": "code",
   "execution_count": 93,
   "metadata": {},
   "outputs": [
    {
     "data": {
      "text/html": [
       "<div>\n",
       "<style scoped>\n",
       "    .dataframe tbody tr th:only-of-type {\n",
       "        vertical-align: middle;\n",
       "    }\n",
       "\n",
       "    .dataframe tbody tr th {\n",
       "        vertical-align: top;\n",
       "    }\n",
       "\n",
       "    .dataframe thead th {\n",
       "        text-align: right;\n",
       "    }\n",
       "</style>\n",
       "<table border=\"1\" class=\"dataframe\">\n",
       "  <thead>\n",
       "    <tr style=\"text-align: right;\">\n",
       "      <th></th>\n",
       "      <th>shop_name</th>\n",
       "      <th>shop_id</th>\n",
       "    </tr>\n",
       "  </thead>\n",
       "  <tbody>\n",
       "    <tr>\n",
       "      <th>0</th>\n",
       "      <td>!Якутск Орджоникидзе, 56 фран</td>\n",
       "      <td>0</td>\n",
       "    </tr>\n",
       "    <tr>\n",
       "      <th>1</th>\n",
       "      <td>!Якутск ТЦ \"Центральный\" фран</td>\n",
       "      <td>1</td>\n",
       "    </tr>\n",
       "    <tr>\n",
       "      <th>2</th>\n",
       "      <td>Адыгея ТЦ \"Мега\"</td>\n",
       "      <td>2</td>\n",
       "    </tr>\n",
       "    <tr>\n",
       "      <th>3</th>\n",
       "      <td>Балашиха ТРК \"Октябрь-Киномир\"</td>\n",
       "      <td>3</td>\n",
       "    </tr>\n",
       "    <tr>\n",
       "      <th>4</th>\n",
       "      <td>Волжский ТЦ \"Волга Молл\"</td>\n",
       "      <td>4</td>\n",
       "    </tr>\n",
       "  </tbody>\n",
       "</table>\n",
       "</div>"
      ],
      "text/plain": [
       "                        shop_name  shop_id\n",
       "0   !Якутск Орджоникидзе, 56 фран        0\n",
       "1   !Якутск ТЦ \"Центральный\" фран        1\n",
       "2                Адыгея ТЦ \"Мега\"        2\n",
       "3  Балашиха ТРК \"Октябрь-Киномир\"        3\n",
       "4        Волжский ТЦ \"Волга Молл\"        4"
      ]
     },
     "execution_count": 93,
     "metadata": {},
     "output_type": "execute_result"
    }
   ],
   "source": [
    "shops.head()"
   ]
  },
  {
   "cell_type": "code",
   "execution_count": 94,
   "metadata": {},
   "outputs": [
    {
     "name": "stdout",
     "output_type": "stream",
     "text": [
      "<class 'pandas.core.frame.DataFrame'>\n",
      "RangeIndex: 60 entries, 0 to 59\n",
      "Data columns (total 2 columns):\n",
      "shop_name    60 non-null object\n",
      "shop_id      60 non-null int64\n",
      "dtypes: int64(1), object(1)\n",
      "memory usage: 1.0+ KB\n"
     ]
    }
   ],
   "source": [
    "shops.info()"
   ]
  },
  {
   "cell_type": "code",
   "execution_count": 95,
   "metadata": {},
   "outputs": [
    {
     "data": {
      "text/html": [
       "<div>\n",
       "<style scoped>\n",
       "    .dataframe tbody tr th:only-of-type {\n",
       "        vertical-align: middle;\n",
       "    }\n",
       "\n",
       "    .dataframe tbody tr th {\n",
       "        vertical-align: top;\n",
       "    }\n",
       "\n",
       "    .dataframe thead th {\n",
       "        text-align: right;\n",
       "    }\n",
       "</style>\n",
       "<table border=\"1\" class=\"dataframe\">\n",
       "  <thead>\n",
       "    <tr style=\"text-align: right;\">\n",
       "      <th></th>\n",
       "      <th>shop_id</th>\n",
       "    </tr>\n",
       "  </thead>\n",
       "  <tbody>\n",
       "    <tr>\n",
       "      <th>count</th>\n",
       "      <td>60.000000</td>\n",
       "    </tr>\n",
       "    <tr>\n",
       "      <th>mean</th>\n",
       "      <td>29.500000</td>\n",
       "    </tr>\n",
       "    <tr>\n",
       "      <th>std</th>\n",
       "      <td>17.464249</td>\n",
       "    </tr>\n",
       "    <tr>\n",
       "      <th>min</th>\n",
       "      <td>0.000000</td>\n",
       "    </tr>\n",
       "    <tr>\n",
       "      <th>25%</th>\n",
       "      <td>14.750000</td>\n",
       "    </tr>\n",
       "    <tr>\n",
       "      <th>50%</th>\n",
       "      <td>29.500000</td>\n",
       "    </tr>\n",
       "    <tr>\n",
       "      <th>75%</th>\n",
       "      <td>44.250000</td>\n",
       "    </tr>\n",
       "    <tr>\n",
       "      <th>max</th>\n",
       "      <td>59.000000</td>\n",
       "    </tr>\n",
       "  </tbody>\n",
       "</table>\n",
       "</div>"
      ],
      "text/plain": [
       "         shop_id\n",
       "count  60.000000\n",
       "mean   29.500000\n",
       "std    17.464249\n",
       "min     0.000000\n",
       "25%    14.750000\n",
       "50%    29.500000\n",
       "75%    44.250000\n",
       "max    59.000000"
      ]
     },
     "execution_count": 95,
     "metadata": {},
     "output_type": "execute_result"
    }
   ],
   "source": [
    "shops.describe()"
   ]
  },
  {
   "cell_type": "markdown",
   "metadata": {},
   "source": [
    "### Concatinating dataframes"
   ]
  },
  {
   "cell_type": "code",
   "execution_count": 96,
   "metadata": {},
   "outputs": [
    {
     "name": "stdout",
     "output_type": "stream",
     "text": [
      "(2935849, 10)\n",
      "Index(['date', 'date_block_num', 'shop_id', 'item_id', 'item_price',\n",
      "       'item_cnt_day', 'item_name', 'item_category_id', 'item_category_name',\n",
      "       'shop_name'],\n",
      "      dtype='object') 10\n"
     ]
    }
   ],
   "source": [
    "sales_train_CC_items = sales_train.merge(items, \n",
    "                                         on=\"item_id\")\n",
    "sales_train_CC_items_CC_item_categories = sales_train_CC_items.merge(item_categories, \n",
    "                                                                     on=\"item_category_id\")\n",
    "sales_train_CC_items_CC_item_categories_CC_shops = sales_train_CC_items_CC_item_categories.merge(shops, \n",
    "                                                                                                 on=\"shop_id\")\n",
    "print(sales_train_CC_items_CC_item_categories_CC_shops.shape)\n",
    "print(sales_train_CC_items_CC_item_categories_CC_shops.columns, \n",
    "      len(sales_train_CC_items_CC_item_categories_CC_shops.columns))"
   ]
  },
  {
   "cell_type": "code",
   "execution_count": 97,
   "metadata": {},
   "outputs": [
    {
     "name": "stdout",
     "output_type": "stream",
     "text": [
      "<class 'pandas.core.frame.DataFrame'>\n",
      "Int64Index: 2935849 entries, 0 to 2935848\n",
      "Data columns (total 10 columns):\n",
      "date                  object\n",
      "date_block_num        int64\n",
      "shop_id               int64\n",
      "item_id               int64\n",
      "item_price            float64\n",
      "item_cnt_day          float64\n",
      "item_name             object\n",
      "item_category_id      int64\n",
      "item_category_name    object\n",
      "shop_name             object\n",
      "dtypes: float64(2), int64(4), object(4)\n",
      "memory usage: 246.4+ MB\n"
     ]
    }
   ],
   "source": [
    "sales_train_CC_items_CC_item_categories_CC_shops.info()"
   ]
  },
  {
   "cell_type": "code",
   "execution_count": 98,
   "metadata": {},
   "outputs": [
    {
     "data": {
      "text/html": [
       "<div>\n",
       "<style scoped>\n",
       "    .dataframe tbody tr th:only-of-type {\n",
       "        vertical-align: middle;\n",
       "    }\n",
       "\n",
       "    .dataframe tbody tr th {\n",
       "        vertical-align: top;\n",
       "    }\n",
       "\n",
       "    .dataframe thead th {\n",
       "        text-align: right;\n",
       "    }\n",
       "</style>\n",
       "<table border=\"1\" class=\"dataframe\">\n",
       "  <thead>\n",
       "    <tr style=\"text-align: right;\">\n",
       "      <th></th>\n",
       "      <th>date_block_num</th>\n",
       "      <th>shop_id</th>\n",
       "      <th>item_id</th>\n",
       "      <th>item_price</th>\n",
       "      <th>item_cnt_day</th>\n",
       "      <th>item_category_id</th>\n",
       "    </tr>\n",
       "  </thead>\n",
       "  <tbody>\n",
       "    <tr>\n",
       "      <th>count</th>\n",
       "      <td>2.935849e+06</td>\n",
       "      <td>2.935849e+06</td>\n",
       "      <td>2.935849e+06</td>\n",
       "      <td>2.935849e+06</td>\n",
       "      <td>2.935849e+06</td>\n",
       "      <td>2.935849e+06</td>\n",
       "    </tr>\n",
       "    <tr>\n",
       "      <th>mean</th>\n",
       "      <td>1.456991e+01</td>\n",
       "      <td>3.300173e+01</td>\n",
       "      <td>1.019723e+04</td>\n",
       "      <td>8.908532e+02</td>\n",
       "      <td>1.242641e+00</td>\n",
       "      <td>4.000138e+01</td>\n",
       "    </tr>\n",
       "    <tr>\n",
       "      <th>std</th>\n",
       "      <td>9.422988e+00</td>\n",
       "      <td>1.622697e+01</td>\n",
       "      <td>6.324297e+03</td>\n",
       "      <td>1.729800e+03</td>\n",
       "      <td>2.618834e+00</td>\n",
       "      <td>1.710076e+01</td>\n",
       "    </tr>\n",
       "    <tr>\n",
       "      <th>min</th>\n",
       "      <td>0.000000e+00</td>\n",
       "      <td>0.000000e+00</td>\n",
       "      <td>0.000000e+00</td>\n",
       "      <td>-1.000000e+00</td>\n",
       "      <td>-2.200000e+01</td>\n",
       "      <td>0.000000e+00</td>\n",
       "    </tr>\n",
       "    <tr>\n",
       "      <th>25%</th>\n",
       "      <td>7.000000e+00</td>\n",
       "      <td>2.200000e+01</td>\n",
       "      <td>4.476000e+03</td>\n",
       "      <td>2.490000e+02</td>\n",
       "      <td>1.000000e+00</td>\n",
       "      <td>2.800000e+01</td>\n",
       "    </tr>\n",
       "    <tr>\n",
       "      <th>50%</th>\n",
       "      <td>1.400000e+01</td>\n",
       "      <td>3.100000e+01</td>\n",
       "      <td>9.343000e+03</td>\n",
       "      <td>3.990000e+02</td>\n",
       "      <td>1.000000e+00</td>\n",
       "      <td>4.000000e+01</td>\n",
       "    </tr>\n",
       "    <tr>\n",
       "      <th>75%</th>\n",
       "      <td>2.300000e+01</td>\n",
       "      <td>4.700000e+01</td>\n",
       "      <td>1.568400e+04</td>\n",
       "      <td>9.990000e+02</td>\n",
       "      <td>1.000000e+00</td>\n",
       "      <td>5.500000e+01</td>\n",
       "    </tr>\n",
       "    <tr>\n",
       "      <th>max</th>\n",
       "      <td>3.300000e+01</td>\n",
       "      <td>5.900000e+01</td>\n",
       "      <td>2.216900e+04</td>\n",
       "      <td>3.079800e+05</td>\n",
       "      <td>2.169000e+03</td>\n",
       "      <td>8.300000e+01</td>\n",
       "    </tr>\n",
       "  </tbody>\n",
       "</table>\n",
       "</div>"
      ],
      "text/plain": [
       "       date_block_num       shop_id       item_id    item_price  item_cnt_day  \\\n",
       "count    2.935849e+06  2.935849e+06  2.935849e+06  2.935849e+06  2.935849e+06   \n",
       "mean     1.456991e+01  3.300173e+01  1.019723e+04  8.908532e+02  1.242641e+00   \n",
       "std      9.422988e+00  1.622697e+01  6.324297e+03  1.729800e+03  2.618834e+00   \n",
       "min      0.000000e+00  0.000000e+00  0.000000e+00 -1.000000e+00 -2.200000e+01   \n",
       "25%      7.000000e+00  2.200000e+01  4.476000e+03  2.490000e+02  1.000000e+00   \n",
       "50%      1.400000e+01  3.100000e+01  9.343000e+03  3.990000e+02  1.000000e+00   \n",
       "75%      2.300000e+01  4.700000e+01  1.568400e+04  9.990000e+02  1.000000e+00   \n",
       "max      3.300000e+01  5.900000e+01  2.216900e+04  3.079800e+05  2.169000e+03   \n",
       "\n",
       "       item_category_id  \n",
       "count      2.935849e+06  \n",
       "mean       4.000138e+01  \n",
       "std        1.710076e+01  \n",
       "min        0.000000e+00  \n",
       "25%        2.800000e+01  \n",
       "50%        4.000000e+01  \n",
       "75%        5.500000e+01  \n",
       "max        8.300000e+01  "
      ]
     },
     "execution_count": 98,
     "metadata": {},
     "output_type": "execute_result"
    }
   ],
   "source": [
    "sales_train_CC_items_CC_item_categories_CC_shops.describe()"
   ]
  },
  {
   "cell_type": "markdown",
   "metadata": {},
   "source": [
    "### Creating copy of final merged data set"
   ]
  },
  {
   "cell_type": "code",
   "execution_count": 99,
   "metadata": {
    "scrolled": false
   },
   "outputs": [
    {
     "data": {
      "text/html": [
       "<div>\n",
       "<style scoped>\n",
       "    .dataframe tbody tr th:only-of-type {\n",
       "        vertical-align: middle;\n",
       "    }\n",
       "\n",
       "    .dataframe tbody tr th {\n",
       "        vertical-align: top;\n",
       "    }\n",
       "\n",
       "    .dataframe thead th {\n",
       "        text-align: right;\n",
       "    }\n",
       "</style>\n",
       "<table border=\"1\" class=\"dataframe\">\n",
       "  <thead>\n",
       "    <tr style=\"text-align: right;\">\n",
       "      <th></th>\n",
       "      <th>date</th>\n",
       "      <th>date_block_num</th>\n",
       "      <th>shop_id</th>\n",
       "      <th>item_id</th>\n",
       "      <th>item_price</th>\n",
       "      <th>item_cnt_day</th>\n",
       "      <th>item_name</th>\n",
       "      <th>item_category_id</th>\n",
       "      <th>item_category_name</th>\n",
       "      <th>shop_name</th>\n",
       "    </tr>\n",
       "  </thead>\n",
       "  <tbody>\n",
       "    <tr>\n",
       "      <th>0</th>\n",
       "      <td>02.01.2013</td>\n",
       "      <td>0</td>\n",
       "      <td>59</td>\n",
       "      <td>22154</td>\n",
       "      <td>999.0</td>\n",
       "      <td>1.0</td>\n",
       "      <td>ЯВЛЕНИЕ 2012 (BD)</td>\n",
       "      <td>37</td>\n",
       "      <td>Кино - Blu-Ray</td>\n",
       "      <td>Ярославль ТЦ \"Альтаир\"</td>\n",
       "    </tr>\n",
       "    <tr>\n",
       "      <th>1</th>\n",
       "      <td>26.04.2013</td>\n",
       "      <td>3</td>\n",
       "      <td>59</td>\n",
       "      <td>944</td>\n",
       "      <td>150.0</td>\n",
       "      <td>1.0</td>\n",
       "      <td>2012 (BD)</td>\n",
       "      <td>37</td>\n",
       "      <td>Кино - Blu-Ray</td>\n",
       "      <td>Ярославль ТЦ \"Альтаир\"</td>\n",
       "    </tr>\n",
       "    <tr>\n",
       "      <th>2</th>\n",
       "      <td>26.06.2013</td>\n",
       "      <td>5</td>\n",
       "      <td>59</td>\n",
       "      <td>944</td>\n",
       "      <td>199.5</td>\n",
       "      <td>1.0</td>\n",
       "      <td>2012 (BD)</td>\n",
       "      <td>37</td>\n",
       "      <td>Кино - Blu-Ray</td>\n",
       "      <td>Ярославль ТЦ \"Альтаир\"</td>\n",
       "    </tr>\n",
       "    <tr>\n",
       "      <th>3</th>\n",
       "      <td>20.07.2013</td>\n",
       "      <td>6</td>\n",
       "      <td>59</td>\n",
       "      <td>944</td>\n",
       "      <td>199.5</td>\n",
       "      <td>1.0</td>\n",
       "      <td>2012 (BD)</td>\n",
       "      <td>37</td>\n",
       "      <td>Кино - Blu-Ray</td>\n",
       "      <td>Ярославль ТЦ \"Альтаир\"</td>\n",
       "    </tr>\n",
       "    <tr>\n",
       "      <th>4</th>\n",
       "      <td>14.09.2013</td>\n",
       "      <td>8</td>\n",
       "      <td>59</td>\n",
       "      <td>944</td>\n",
       "      <td>299.0</td>\n",
       "      <td>2.0</td>\n",
       "      <td>2012 (BD)</td>\n",
       "      <td>37</td>\n",
       "      <td>Кино - Blu-Ray</td>\n",
       "      <td>Ярославль ТЦ \"Альтаир\"</td>\n",
       "    </tr>\n",
       "  </tbody>\n",
       "</table>\n",
       "</div>"
      ],
      "text/plain": [
       "         date  date_block_num  shop_id  item_id  item_price  item_cnt_day  \\\n",
       "0  02.01.2013               0       59    22154       999.0           1.0   \n",
       "1  26.04.2013               3       59      944       150.0           1.0   \n",
       "2  26.06.2013               5       59      944       199.5           1.0   \n",
       "3  20.07.2013               6       59      944       199.5           1.0   \n",
       "4  14.09.2013               8       59      944       299.0           2.0   \n",
       "\n",
       "           item_name  item_category_id item_category_name  \\\n",
       "0  ЯВЛЕНИЕ 2012 (BD)                37     Кино - Blu-Ray   \n",
       "1          2012 (BD)                37     Кино - Blu-Ray   \n",
       "2          2012 (BD)                37     Кино - Blu-Ray   \n",
       "3          2012 (BD)                37     Кино - Blu-Ray   \n",
       "4          2012 (BD)                37     Кино - Blu-Ray   \n",
       "\n",
       "                shop_name  \n",
       "0  Ярославль ТЦ \"Альтаир\"  \n",
       "1  Ярославль ТЦ \"Альтаир\"  \n",
       "2  Ярославль ТЦ \"Альтаир\"  \n",
       "3  Ярославль ТЦ \"Альтаир\"  \n",
       "4  Ярославль ТЦ \"Альтаир\"  "
      ]
     },
     "execution_count": 99,
     "metadata": {},
     "output_type": "execute_result"
    }
   ],
   "source": [
    "finalDF = sales_train_CC_items_CC_item_categories_CC_shops.copy()\n",
    "finalDF.head()"
   ]
  },
  {
   "cell_type": "code",
   "execution_count": 100,
   "metadata": {
    "scrolled": true
   },
   "outputs": [
    {
     "data": {
      "text/html": [
       "<div>\n",
       "<style scoped>\n",
       "    .dataframe tbody tr th:only-of-type {\n",
       "        vertical-align: middle;\n",
       "    }\n",
       "\n",
       "    .dataframe tbody tr th {\n",
       "        vertical-align: top;\n",
       "    }\n",
       "\n",
       "    .dataframe thead th {\n",
       "        text-align: right;\n",
       "    }\n",
       "</style>\n",
       "<table border=\"1\" class=\"dataframe\">\n",
       "  <thead>\n",
       "    <tr style=\"text-align: right;\">\n",
       "      <th></th>\n",
       "      <th>date_block_num</th>\n",
       "      <th>shop_id</th>\n",
       "      <th>item_id</th>\n",
       "      <th>item_price</th>\n",
       "      <th>item_cnt_day</th>\n",
       "      <th>item_category_id</th>\n",
       "    </tr>\n",
       "  </thead>\n",
       "  <tbody>\n",
       "    <tr>\n",
       "      <th>count</th>\n",
       "      <td>2.935849e+06</td>\n",
       "      <td>2.935849e+06</td>\n",
       "      <td>2.935849e+06</td>\n",
       "      <td>2.935849e+06</td>\n",
       "      <td>2.935849e+06</td>\n",
       "      <td>2.935849e+06</td>\n",
       "    </tr>\n",
       "    <tr>\n",
       "      <th>mean</th>\n",
       "      <td>1.456991e+01</td>\n",
       "      <td>3.300173e+01</td>\n",
       "      <td>1.019723e+04</td>\n",
       "      <td>8.908532e+02</td>\n",
       "      <td>1.242641e+00</td>\n",
       "      <td>4.000138e+01</td>\n",
       "    </tr>\n",
       "    <tr>\n",
       "      <th>std</th>\n",
       "      <td>9.422988e+00</td>\n",
       "      <td>1.622697e+01</td>\n",
       "      <td>6.324297e+03</td>\n",
       "      <td>1.729800e+03</td>\n",
       "      <td>2.618834e+00</td>\n",
       "      <td>1.710076e+01</td>\n",
       "    </tr>\n",
       "    <tr>\n",
       "      <th>min</th>\n",
       "      <td>0.000000e+00</td>\n",
       "      <td>0.000000e+00</td>\n",
       "      <td>0.000000e+00</td>\n",
       "      <td>-1.000000e+00</td>\n",
       "      <td>-2.200000e+01</td>\n",
       "      <td>0.000000e+00</td>\n",
       "    </tr>\n",
       "    <tr>\n",
       "      <th>25%</th>\n",
       "      <td>7.000000e+00</td>\n",
       "      <td>2.200000e+01</td>\n",
       "      <td>4.476000e+03</td>\n",
       "      <td>2.490000e+02</td>\n",
       "      <td>1.000000e+00</td>\n",
       "      <td>2.800000e+01</td>\n",
       "    </tr>\n",
       "    <tr>\n",
       "      <th>50%</th>\n",
       "      <td>1.400000e+01</td>\n",
       "      <td>3.100000e+01</td>\n",
       "      <td>9.343000e+03</td>\n",
       "      <td>3.990000e+02</td>\n",
       "      <td>1.000000e+00</td>\n",
       "      <td>4.000000e+01</td>\n",
       "    </tr>\n",
       "    <tr>\n",
       "      <th>75%</th>\n",
       "      <td>2.300000e+01</td>\n",
       "      <td>4.700000e+01</td>\n",
       "      <td>1.568400e+04</td>\n",
       "      <td>9.990000e+02</td>\n",
       "      <td>1.000000e+00</td>\n",
       "      <td>5.500000e+01</td>\n",
       "    </tr>\n",
       "    <tr>\n",
       "      <th>max</th>\n",
       "      <td>3.300000e+01</td>\n",
       "      <td>5.900000e+01</td>\n",
       "      <td>2.216900e+04</td>\n",
       "      <td>3.079800e+05</td>\n",
       "      <td>2.169000e+03</td>\n",
       "      <td>8.300000e+01</td>\n",
       "    </tr>\n",
       "  </tbody>\n",
       "</table>\n",
       "</div>"
      ],
      "text/plain": [
       "       date_block_num       shop_id       item_id    item_price  item_cnt_day  \\\n",
       "count    2.935849e+06  2.935849e+06  2.935849e+06  2.935849e+06  2.935849e+06   \n",
       "mean     1.456991e+01  3.300173e+01  1.019723e+04  8.908532e+02  1.242641e+00   \n",
       "std      9.422988e+00  1.622697e+01  6.324297e+03  1.729800e+03  2.618834e+00   \n",
       "min      0.000000e+00  0.000000e+00  0.000000e+00 -1.000000e+00 -2.200000e+01   \n",
       "25%      7.000000e+00  2.200000e+01  4.476000e+03  2.490000e+02  1.000000e+00   \n",
       "50%      1.400000e+01  3.100000e+01  9.343000e+03  3.990000e+02  1.000000e+00   \n",
       "75%      2.300000e+01  4.700000e+01  1.568400e+04  9.990000e+02  1.000000e+00   \n",
       "max      3.300000e+01  5.900000e+01  2.216900e+04  3.079800e+05  2.169000e+03   \n",
       "\n",
       "       item_category_id  \n",
       "count      2.935849e+06  \n",
       "mean       4.000138e+01  \n",
       "std        1.710076e+01  \n",
       "min        0.000000e+00  \n",
       "25%        2.800000e+01  \n",
       "50%        4.000000e+01  \n",
       "75%        5.500000e+01  \n",
       "max        8.300000e+01  "
      ]
     },
     "execution_count": 100,
     "metadata": {},
     "output_type": "execute_result"
    }
   ],
   "source": [
    "finalDF.describe()"
   ]
  },
  {
   "cell_type": "markdown",
   "metadata": {},
   "source": [
    "### Removing missing values i.e -1"
   ]
  },
  {
   "cell_type": "code",
   "execution_count": 101,
   "metadata": {
    "scrolled": true
   },
   "outputs": [
    {
     "data": {
      "text/html": [
       "<div>\n",
       "<style scoped>\n",
       "    .dataframe tbody tr th:only-of-type {\n",
       "        vertical-align: middle;\n",
       "    }\n",
       "\n",
       "    .dataframe tbody tr th {\n",
       "        vertical-align: top;\n",
       "    }\n",
       "\n",
       "    .dataframe thead th {\n",
       "        text-align: right;\n",
       "    }\n",
       "</style>\n",
       "<table border=\"1\" class=\"dataframe\">\n",
       "  <thead>\n",
       "    <tr style=\"text-align: right;\">\n",
       "      <th></th>\n",
       "      <th>date</th>\n",
       "      <th>date_block_num</th>\n",
       "      <th>shop_id</th>\n",
       "      <th>item_id</th>\n",
       "      <th>item_price</th>\n",
       "      <th>item_cnt_day</th>\n",
       "      <th>item_name</th>\n",
       "      <th>item_category_id</th>\n",
       "      <th>item_category_name</th>\n",
       "      <th>shop_name</th>\n",
       "    </tr>\n",
       "  </thead>\n",
       "  <tbody>\n",
       "  </tbody>\n",
       "</table>\n",
       "</div>"
      ],
      "text/plain": [
       "Empty DataFrame\n",
       "Columns: [date, date_block_num, shop_id, item_id, item_price, item_cnt_day, item_name, item_category_id, item_category_name, shop_name]\n",
       "Index: []"
      ]
     },
     "execution_count": 101,
     "metadata": {},
     "output_type": "execute_result"
    }
   ],
   "source": [
    "finalDF[(finalDF.date_block_num == -1)]"
   ]
  },
  {
   "cell_type": "code",
   "execution_count": 102,
   "metadata": {},
   "outputs": [],
   "source": [
    "finalDF = finalDF[~(finalDF.item_cnt_day == -1)]\n",
    "finalDF = finalDF[~(finalDF.item_price == -1)]"
   ]
  },
  {
   "cell_type": "markdown",
   "metadata": {},
   "source": [
    "# Feature Extraction\n",
    "\n",
    "Splitting date based on dots"
   ]
  },
  {
   "cell_type": "code",
   "execution_count": 103,
   "metadata": {},
   "outputs": [
    {
     "data": {
      "text/plain": [
       "(2928596, 3)"
      ]
     },
     "execution_count": 103,
     "metadata": {},
     "output_type": "execute_result"
    }
   ],
   "source": [
    "dateSplit = finalDF.date.str.split(\".\", expand=True)\n",
    "dateSplit.shape"
   ]
  },
  {
   "cell_type": "code",
   "execution_count": 104,
   "metadata": {},
   "outputs": [
    {
     "data": {
      "text/html": [
       "<div>\n",
       "<style scoped>\n",
       "    .dataframe tbody tr th:only-of-type {\n",
       "        vertical-align: middle;\n",
       "    }\n",
       "\n",
       "    .dataframe tbody tr th {\n",
       "        vertical-align: top;\n",
       "    }\n",
       "\n",
       "    .dataframe thead th {\n",
       "        text-align: right;\n",
       "    }\n",
       "</style>\n",
       "<table border=\"1\" class=\"dataframe\">\n",
       "  <thead>\n",
       "    <tr style=\"text-align: right;\">\n",
       "      <th></th>\n",
       "      <th>day</th>\n",
       "      <th>month</th>\n",
       "      <th>year</th>\n",
       "    </tr>\n",
       "  </thead>\n",
       "  <tbody>\n",
       "    <tr>\n",
       "      <th>0</th>\n",
       "      <td>02</td>\n",
       "      <td>01</td>\n",
       "      <td>2013</td>\n",
       "    </tr>\n",
       "    <tr>\n",
       "      <th>1</th>\n",
       "      <td>26</td>\n",
       "      <td>04</td>\n",
       "      <td>2013</td>\n",
       "    </tr>\n",
       "    <tr>\n",
       "      <th>2</th>\n",
       "      <td>26</td>\n",
       "      <td>06</td>\n",
       "      <td>2013</td>\n",
       "    </tr>\n",
       "    <tr>\n",
       "      <th>3</th>\n",
       "      <td>20</td>\n",
       "      <td>07</td>\n",
       "      <td>2013</td>\n",
       "    </tr>\n",
       "    <tr>\n",
       "      <th>4</th>\n",
       "      <td>14</td>\n",
       "      <td>09</td>\n",
       "      <td>2013</td>\n",
       "    </tr>\n",
       "  </tbody>\n",
       "</table>\n",
       "</div>"
      ],
      "text/plain": [
       "  day month  year\n",
       "0  02    01  2013\n",
       "1  26    04  2013\n",
       "2  26    06  2013\n",
       "3  20    07  2013\n",
       "4  14    09  2013"
      ]
     },
     "execution_count": 104,
     "metadata": {},
     "output_type": "execute_result"
    }
   ],
   "source": [
    "dateSplit.columns = [\"day\", \"month\", \"year\"]\n",
    "dateSplit.head()"
   ]
  },
  {
   "cell_type": "code",
   "execution_count": 105,
   "metadata": {},
   "outputs": [],
   "source": [
    "finalDF = pd.concat([finalDF, dateSplit], axis = 1)#.drop('date', axis=1)"
   ]
  },
  {
   "cell_type": "code",
   "execution_count": 106,
   "metadata": {},
   "outputs": [
    {
     "data": {
      "text/plain": [
       "Index(['date', 'date_block_num', 'shop_id', 'item_id', 'item_price',\n",
       "       'item_cnt_day', 'item_name', 'item_category_id', 'item_category_name',\n",
       "       'shop_name', 'day', 'month', 'year'],\n",
       "      dtype='object')"
      ]
     },
     "execution_count": 106,
     "metadata": {},
     "output_type": "execute_result"
    }
   ],
   "source": [
    "finalDF.columns"
   ]
  },
  {
   "cell_type": "markdown",
   "metadata": {},
   "source": [
    "### translating Russian text to English text"
   ]
  },
  {
   "cell_type": "markdown",
   "metadata": {},
   "source": [
    "Converting **item_category_name**"
   ]
  },
  {
   "cell_type": "code",
   "execution_count": 107,
   "metadata": {
    "scrolled": true
   },
   "outputs": [
    {
     "data": {
      "text/plain": [
       "['Кино - Blu-Ray',\n",
       " 'Музыка - Винил',\n",
       " 'Музыка - CD фирменного производства',\n",
       " 'Музыка - Музыкальное видео',\n",
       " 'Музыка - CD локального производства',\n",
       " 'Игры - XBOX 360',\n",
       " 'Игры - PS3',\n",
       " 'Игры PC - Дополнительные издания',\n",
       " 'Игры PC - Стандартные издания',\n",
       " 'Игры - PSP',\n",
       " 'Кино - DVD',\n",
       " 'Программы - Для дома и офиса',\n",
       " 'Книги - Методические материалы 1С',\n",
       " 'Игры PC - Коллекционные издания',\n",
       " 'Игры - PSVita',\n",
       " 'Подарки - Развитие',\n",
       " 'Программы - 1С:Предприятие 8',\n",
       " 'Программы - Обучающие',\n",
       " 'Музыка - MP3',\n",
       " 'Музыка - Подарочные издания',\n",
       " 'Аксессуары - PSP',\n",
       " 'Подарки - Гаджеты, роботы, спорт',\n",
       " 'Книги - Аудиокниги',\n",
       " 'Игровые консоли - XBOX 360',\n",
       " 'Аксессуары - PS3',\n",
       " 'Аксессуары - PS4',\n",
       " 'Аксессуары - PSVita',\n",
       " 'Карты оплаты - PSN',\n",
       " 'Карты оплаты - Live!',\n",
       " 'Аксессуары - XBOX 360',\n",
       " 'Кино - Blu-Ray 3D',\n",
       " 'Игры - Аксессуары для игр',\n",
       " 'Игровые консоли - PSVita',\n",
       " 'Книги - Аудиокниги 1С',\n",
       " 'Кино - Коллекционное',\n",
       " 'Подарки - Открытки, наклейки',\n",
       " 'Игровые консоли - PS3',\n",
       " 'Подарки - Сувениры',\n",
       " 'Подарки - Настольные игры (компактные)',\n",
       " 'Подарки - Настольные игры',\n",
       " 'Служебные',\n",
       " 'Подарки - Мягкие игрушки',\n",
       " 'Подарки - Сувениры (в навеску)',\n",
       " 'Игровые консоли - PSP',\n",
       " 'Элементы питания',\n",
       " 'Подарки - Фигурки',\n",
       " 'Подарки - Атрибутика',\n",
       " 'Подарки - Сумки, Альбомы, Коврики д/мыши',\n",
       " 'Карты оплаты (Кино, Музыка, Игры)',\n",
       " 'Кино - Blu-Ray 4K',\n",
       " 'Игровые консоли - PS4',\n",
       " 'Игры - PS4',\n",
       " 'Игровые консоли - Прочие',\n",
       " 'Билеты (Цифра)',\n",
       " 'Игровые консоли - XBOX ONE',\n",
       " 'Игры - XBOX ONE',\n",
       " 'Аксессуары - XBOX ONE',\n",
       " 'Книги - Комиксы, манга',\n",
       " 'Книги - Артбуки, энциклопедии',\n",
       " 'Служебные - Билеты',\n",
       " 'Подарки - Сертификаты, услуги',\n",
       " 'Чистые носители (штучные)',\n",
       " 'Чистые носители (шпиль)',\n",
       " 'PC - Гарнитуры/Наушники',\n",
       " 'Книги - Бизнес литература',\n",
       " 'Книги - Художественная литература',\n",
       " 'Игры - PS2',\n",
       " 'Книги - Познавательная литература',\n",
       " 'Книги - Компьютерная литература',\n",
       " 'Аксессуары - PS2',\n",
       " 'Книги - Открытки',\n",
       " 'Доставка товара',\n",
       " 'Игровые консоли - PS2',\n",
       " 'Книги - Путеводители',\n",
       " 'Игры PC - Цифра',\n",
       " 'Программы - Для дома и офиса (Цифра)',\n",
       " 'Программы - Обучающие (Цифра)',\n",
       " 'Книги - Цифра',\n",
       " 'Книги - Аудиокниги (Цифра)',\n",
       " 'Карты оплаты - Live! (Цифра)',\n",
       " 'Программы - MAC (Цифра)',\n",
       " 'Игры Android - Цифра',\n",
       " 'Игры MAC - Цифра',\n",
       " 'Карты оплаты - Windows (Цифра)']"
      ]
     },
     "execution_count": 107,
     "metadata": {},
     "output_type": "execute_result"
    }
   ],
   "source": [
    "unique_item_category_name = pd.unique(finalDF.item_category_name)\n",
    "unique_item_category_name = list(unique_item_category_name)\n",
    "unique_item_category_name"
   ]
  },
  {
   "cell_type": "code",
   "execution_count": 108,
   "metadata": {
    "scrolled": true
   },
   "outputs": [
    {
     "data": {
      "text/plain": [
       "[['Кино - Blu-Ray'],\n",
       " ['Музыка - Винил'],\n",
       " ['Музыка - CD фирменного производства'],\n",
       " ['Музыка - Музыкальное видео'],\n",
       " ['Музыка - CD локального производства'],\n",
       " ['Игры - XBOX 360'],\n",
       " ['Игры - PS3'],\n",
       " ['Игры PC - Дополнительные издания'],\n",
       " ['Игры PC - Стандартные издания'],\n",
       " ['Игры - PSP'],\n",
       " ['Кино - DVD'],\n",
       " ['Программы - Для дома и офиса'],\n",
       " ['Книги - Методические материалы 1С'],\n",
       " ['Игры PC - Коллекционные издания'],\n",
       " ['Игры - PSVita'],\n",
       " ['Подарки - Развитие'],\n",
       " ['Программы - 1С:Предприятие 8'],\n",
       " ['Программы - Обучающие'],\n",
       " ['Музыка - MP3'],\n",
       " ['Музыка - Подарочные издания'],\n",
       " ['Аксессуары - PSP'],\n",
       " ['Подарки - Гаджеты', ' роботы', ' спорт'],\n",
       " ['Книги - Аудиокниги'],\n",
       " ['Игровые консоли - XBOX 360'],\n",
       " ['Аксессуары - PS3'],\n",
       " ['Аксессуары - PS4'],\n",
       " ['Аксессуары - PSVita'],\n",
       " ['Карты оплаты - PSN'],\n",
       " ['Карты оплаты - Live!'],\n",
       " ['Аксессуары - XBOX 360'],\n",
       " ['Кино - Blu-Ray 3D'],\n",
       " ['Игры - Аксессуары для игр'],\n",
       " ['Игровые консоли - PSVita'],\n",
       " ['Книги - Аудиокниги 1С'],\n",
       " ['Кино - Коллекционное'],\n",
       " ['Подарки - Открытки', ' наклейки'],\n",
       " ['Игровые консоли - PS3'],\n",
       " ['Подарки - Сувениры'],\n",
       " ['Подарки - Настольные игры (компактные)'],\n",
       " ['Подарки - Настольные игры'],\n",
       " ['Служебные'],\n",
       " ['Подарки - Мягкие игрушки'],\n",
       " ['Подарки - Сувениры (в навеску)'],\n",
       " ['Игровые консоли - PSP'],\n",
       " ['Элементы питания'],\n",
       " ['Подарки - Фигурки'],\n",
       " ['Подарки - Атрибутика'],\n",
       " ['Подарки - Сумки', ' Альбомы', ' Коврики д/мыши'],\n",
       " ['Карты оплаты (Кино', ' Музыка', ' Игры)'],\n",
       " ['Кино - Blu-Ray 4K'],\n",
       " ['Игровые консоли - PS4'],\n",
       " ['Игры - PS4'],\n",
       " ['Игровые консоли - Прочие'],\n",
       " ['Билеты (Цифра)'],\n",
       " ['Игровые консоли - XBOX ONE'],\n",
       " ['Игры - XBOX ONE'],\n",
       " ['Аксессуары - XBOX ONE'],\n",
       " ['Книги - Комиксы', ' манга'],\n",
       " ['Книги - Артбуки', ' энциклопедии'],\n",
       " ['Служебные - Билеты'],\n",
       " ['Подарки - Сертификаты', ' услуги'],\n",
       " ['Чистые носители (штучные)'],\n",
       " ['Чистые носители (шпиль)'],\n",
       " ['PC - Гарнитуры/Наушники'],\n",
       " ['Книги - Бизнес литература'],\n",
       " ['Книги - Художественная литература'],\n",
       " ['Игры - PS2'],\n",
       " ['Книги - Познавательная литература'],\n",
       " ['Книги - Компьютерная литература'],\n",
       " ['Аксессуары - PS2'],\n",
       " ['Книги - Открытки'],\n",
       " ['Доставка товара'],\n",
       " ['Игровые консоли - PS2'],\n",
       " ['Книги - Путеводители'],\n",
       " ['Игры PC - Цифра'],\n",
       " ['Программы - Для дома и офиса (Цифра)'],\n",
       " ['Программы - Обучающие (Цифра)'],\n",
       " ['Книги - Цифра'],\n",
       " ['Книги - Аудиокниги (Цифра)'],\n",
       " ['Карты оплаты - Live! (Цифра)'],\n",
       " ['Программы - MAC (Цифра)'],\n",
       " ['Игры Android - Цифра'],\n",
       " ['Игры MAC - Цифра'],\n",
       " ['Карты оплаты - Windows (Цифра)']]"
      ]
     },
     "execution_count": 108,
     "metadata": {},
     "output_type": "execute_result"
    }
   ],
   "source": [
    "[re.split('[,]', i) for i in unique_item_category_name]"
   ]
  },
  {
   "cell_type": "code",
   "execution_count": null,
   "metadata": {},
   "outputs": [],
   "source": [
    "translator = Translator()\n",
    "translatedList = translator.translate(unique_item_category_name, dest='en')"
   ]
  },
  {
   "cell_type": "code",
   "execution_count": null,
   "metadata": {},
   "outputs": [],
   "source": [
    "translatedEnglishList = []\n",
    "for i in translatedList:\n",
    "    translatedEnglishList.append((i.origin, i.text))\n",
    "translatedEnglishListdf = pd.DataFrame({\"item_category_name\": [translatedEnglishList[k][0] for k in range(len(translatedEnglishList))],\n",
    "                                       \"en_item_category_name\": [translatedEnglishList[k][1] for k in range(len(translatedEnglishList))]\n",
    "                                       })"
   ]
  },
  {
   "cell_type": "code",
   "execution_count": null,
   "metadata": {},
   "outputs": [],
   "source": [
    "translatedEnglishListdf[translatedEnglishListdf['item_category_name'] == translatedEnglishListdf['en_item_category_name']]"
   ]
  },
  {
   "cell_type": "code",
   "execution_count": null,
   "metadata": {},
   "outputs": [],
   "source": [
    "translatedEnglishListdf.iloc[73]['en_item_category_name'] = \"Books - Travel Guides\""
   ]
  },
  {
   "cell_type": "code",
   "execution_count": null,
   "metadata": {},
   "outputs": [],
   "source": [
    "finalDF = finalDF.merge(translatedEnglishListdf, on=\"item_category_name\")"
   ]
  },
  {
   "cell_type": "code",
   "execution_count": null,
   "metadata": {},
   "outputs": [],
   "source": [
    "finalDF.drop('item_category_name', axis=1, inplace=True)"
   ]
  },
  {
   "cell_type": "markdown",
   "metadata": {},
   "source": [
    "Converting **shop_name**"
   ]
  },
  {
   "cell_type": "code",
   "execution_count": null,
   "metadata": {},
   "outputs": [],
   "source": [
    "unique_shop_name = pd.unique(finalDF.shop_name)\n",
    "unique_shop_name = list(unique_shop_name)\n",
    "unique_shop_name"
   ]
  },
  {
   "cell_type": "code",
   "execution_count": null,
   "metadata": {},
   "outputs": [],
   "source": [
    "translatedList_shop_name = translator.translate(unique_shop_name, dest='en')"
   ]
  },
  {
   "cell_type": "code",
   "execution_count": null,
   "metadata": {},
   "outputs": [],
   "source": [
    "translatedEnglishList_shop_name = []\n",
    "for i in translatedList_shop_name:\n",
    "    translatedEnglishList_shop_name.append((i.origin, i.text))\n",
    "translatedEnglishList_shop_namedf = pd.DataFrame({\"shop_name\": [translatedEnglishList_shop_name[k][0] for k in range(len(translatedEnglishList_shop_name))],\n",
    "                                       \"en_shop_name\": [translatedEnglishList_shop_name[k][1] for k in range(len(translatedEnglishList_shop_name))]\n",
    "                                       })"
   ]
  },
  {
   "cell_type": "code",
   "execution_count": 72,
   "metadata": {},
   "outputs": [
    {
     "data": {
      "text/html": [
       "<div>\n",
       "<style scoped>\n",
       "    .dataframe tbody tr th:only-of-type {\n",
       "        vertical-align: middle;\n",
       "    }\n",
       "\n",
       "    .dataframe tbody tr th {\n",
       "        vertical-align: top;\n",
       "    }\n",
       "\n",
       "    .dataframe thead th {\n",
       "        text-align: right;\n",
       "    }\n",
       "</style>\n",
       "<table border=\"1\" class=\"dataframe\">\n",
       "  <thead>\n",
       "    <tr style=\"text-align: right;\">\n",
       "      <th></th>\n",
       "      <th>shop_name</th>\n",
       "      <th>en_shop_name</th>\n",
       "    </tr>\n",
       "  </thead>\n",
       "  <tbody>\n",
       "  </tbody>\n",
       "</table>\n",
       "</div>"
      ],
      "text/plain": [
       "Empty DataFrame\n",
       "Columns: [shop_name, en_shop_name]\n",
       "Index: []"
      ]
     },
     "execution_count": 72,
     "metadata": {},
     "output_type": "execute_result"
    }
   ],
   "source": [
    "translatedEnglishList_shop_namedf[translatedEnglishList_shop_namedf['shop_name'] == \\\n",
    "                                  translatedEnglishList_shop_namedf['en_shop_name']]"
   ]
  },
  {
   "cell_type": "code",
   "execution_count": 73,
   "metadata": {},
   "outputs": [
    {
     "ename": "KeyError",
     "evalue": "'shop_name'",
     "output_type": "error",
     "traceback": [
      "\u001b[0;31m---------------------------------------------------------------------------\u001b[0m",
      "\u001b[0;31mKeyError\u001b[0m                                  Traceback (most recent call last)",
      "\u001b[0;32m<ipython-input-73-a7a378718c15>\u001b[0m in \u001b[0;36m<module>\u001b[0;34m\u001b[0m\n\u001b[0;32m----> 1\u001b[0;31m \u001b[0mfinalDF\u001b[0m \u001b[0;34m=\u001b[0m \u001b[0mfinalDF\u001b[0m\u001b[0;34m.\u001b[0m\u001b[0mmerge\u001b[0m\u001b[0;34m(\u001b[0m\u001b[0mtranslatedEnglishList_shop_namedf\u001b[0m\u001b[0;34m,\u001b[0m \u001b[0mon\u001b[0m\u001b[0;34m=\u001b[0m\u001b[0;34m\"shop_name\"\u001b[0m\u001b[0;34m)\u001b[0m\u001b[0;34m\u001b[0m\u001b[0;34m\u001b[0m\u001b[0m\n\u001b[0m\u001b[1;32m      2\u001b[0m \u001b[0mfinalDF\u001b[0m\u001b[0;34m.\u001b[0m\u001b[0mdrop\u001b[0m\u001b[0;34m(\u001b[0m\u001b[0;34m'shop_name'\u001b[0m\u001b[0;34m,\u001b[0m \u001b[0maxis\u001b[0m\u001b[0;34m=\u001b[0m\u001b[0;36m1\u001b[0m\u001b[0;34m,\u001b[0m \u001b[0minplace\u001b[0m\u001b[0;34m=\u001b[0m\u001b[0;32mTrue\u001b[0m\u001b[0;34m)\u001b[0m\u001b[0;34m\u001b[0m\u001b[0;34m\u001b[0m\u001b[0m\n",
      "\u001b[0;32m~/anaconda3/envs/Own/lib/python3.7/site-packages/pandas/core/frame.py\u001b[0m in \u001b[0;36mmerge\u001b[0;34m(self, right, how, on, left_on, right_on, left_index, right_index, sort, suffixes, copy, indicator, validate)\u001b[0m\n\u001b[1;32m   6866\u001b[0m                      \u001b[0mright_on\u001b[0m\u001b[0;34m=\u001b[0m\u001b[0mright_on\u001b[0m\u001b[0;34m,\u001b[0m \u001b[0mleft_index\u001b[0m\u001b[0;34m=\u001b[0m\u001b[0mleft_index\u001b[0m\u001b[0;34m,\u001b[0m\u001b[0;34m\u001b[0m\u001b[0;34m\u001b[0m\u001b[0m\n\u001b[1;32m   6867\u001b[0m                      \u001b[0mright_index\u001b[0m\u001b[0;34m=\u001b[0m\u001b[0mright_index\u001b[0m\u001b[0;34m,\u001b[0m \u001b[0msort\u001b[0m\u001b[0;34m=\u001b[0m\u001b[0msort\u001b[0m\u001b[0;34m,\u001b[0m \u001b[0msuffixes\u001b[0m\u001b[0;34m=\u001b[0m\u001b[0msuffixes\u001b[0m\u001b[0;34m,\u001b[0m\u001b[0;34m\u001b[0m\u001b[0;34m\u001b[0m\u001b[0m\n\u001b[0;32m-> 6868\u001b[0;31m                      copy=copy, indicator=indicator, validate=validate)\n\u001b[0m\u001b[1;32m   6869\u001b[0m \u001b[0;34m\u001b[0m\u001b[0m\n\u001b[1;32m   6870\u001b[0m     \u001b[0;32mdef\u001b[0m \u001b[0mround\u001b[0m\u001b[0;34m(\u001b[0m\u001b[0mself\u001b[0m\u001b[0;34m,\u001b[0m \u001b[0mdecimals\u001b[0m\u001b[0;34m=\u001b[0m\u001b[0;36m0\u001b[0m\u001b[0;34m,\u001b[0m \u001b[0;34m*\u001b[0m\u001b[0margs\u001b[0m\u001b[0;34m,\u001b[0m \u001b[0;34m**\u001b[0m\u001b[0mkwargs\u001b[0m\u001b[0;34m)\u001b[0m\u001b[0;34m:\u001b[0m\u001b[0;34m\u001b[0m\u001b[0;34m\u001b[0m\u001b[0m\n",
      "\u001b[0;32m~/anaconda3/envs/Own/lib/python3.7/site-packages/pandas/core/reshape/merge.py\u001b[0m in \u001b[0;36mmerge\u001b[0;34m(left, right, how, on, left_on, right_on, left_index, right_index, sort, suffixes, copy, indicator, validate)\u001b[0m\n\u001b[1;32m     45\u001b[0m                          \u001b[0mright_index\u001b[0m\u001b[0;34m=\u001b[0m\u001b[0mright_index\u001b[0m\u001b[0;34m,\u001b[0m \u001b[0msort\u001b[0m\u001b[0;34m=\u001b[0m\u001b[0msort\u001b[0m\u001b[0;34m,\u001b[0m \u001b[0msuffixes\u001b[0m\u001b[0;34m=\u001b[0m\u001b[0msuffixes\u001b[0m\u001b[0;34m,\u001b[0m\u001b[0;34m\u001b[0m\u001b[0;34m\u001b[0m\u001b[0m\n\u001b[1;32m     46\u001b[0m                          \u001b[0mcopy\u001b[0m\u001b[0;34m=\u001b[0m\u001b[0mcopy\u001b[0m\u001b[0;34m,\u001b[0m \u001b[0mindicator\u001b[0m\u001b[0;34m=\u001b[0m\u001b[0mindicator\u001b[0m\u001b[0;34m,\u001b[0m\u001b[0;34m\u001b[0m\u001b[0;34m\u001b[0m\u001b[0m\n\u001b[0;32m---> 47\u001b[0;31m                          validate=validate)\n\u001b[0m\u001b[1;32m     48\u001b[0m     \u001b[0;32mreturn\u001b[0m \u001b[0mop\u001b[0m\u001b[0;34m.\u001b[0m\u001b[0mget_result\u001b[0m\u001b[0;34m(\u001b[0m\u001b[0;34m)\u001b[0m\u001b[0;34m\u001b[0m\u001b[0;34m\u001b[0m\u001b[0m\n\u001b[1;32m     49\u001b[0m \u001b[0;34m\u001b[0m\u001b[0m\n",
      "\u001b[0;32m~/anaconda3/envs/Own/lib/python3.7/site-packages/pandas/core/reshape/merge.py\u001b[0m in \u001b[0;36m__init__\u001b[0;34m(self, left, right, how, on, left_on, right_on, axis, left_index, right_index, sort, suffixes, copy, indicator, validate)\u001b[0m\n\u001b[1;32m    527\u001b[0m         (self.left_join_keys,\n\u001b[1;32m    528\u001b[0m          \u001b[0mself\u001b[0m\u001b[0;34m.\u001b[0m\u001b[0mright_join_keys\u001b[0m\u001b[0;34m,\u001b[0m\u001b[0;34m\u001b[0m\u001b[0;34m\u001b[0m\u001b[0m\n\u001b[0;32m--> 529\u001b[0;31m          self.join_names) = self._get_merge_keys()\n\u001b[0m\u001b[1;32m    530\u001b[0m \u001b[0;34m\u001b[0m\u001b[0m\n\u001b[1;32m    531\u001b[0m         \u001b[0;31m# validate the merge keys dtypes. We may need to coerce\u001b[0m\u001b[0;34m\u001b[0m\u001b[0;34m\u001b[0m\u001b[0;34m\u001b[0m\u001b[0m\n",
      "\u001b[0;32m~/anaconda3/envs/Own/lib/python3.7/site-packages/pandas/core/reshape/merge.py\u001b[0m in \u001b[0;36m_get_merge_keys\u001b[0;34m(self)\u001b[0m\n\u001b[1;32m    844\u001b[0m                         \u001b[0mright_keys\u001b[0m\u001b[0;34m.\u001b[0m\u001b[0mappend\u001b[0m\u001b[0;34m(\u001b[0m\u001b[0mrk\u001b[0m\u001b[0;34m)\u001b[0m\u001b[0;34m\u001b[0m\u001b[0;34m\u001b[0m\u001b[0m\n\u001b[1;32m    845\u001b[0m                     \u001b[0;32mif\u001b[0m \u001b[0mlk\u001b[0m \u001b[0;32mis\u001b[0m \u001b[0;32mnot\u001b[0m \u001b[0;32mNone\u001b[0m\u001b[0;34m:\u001b[0m\u001b[0;34m\u001b[0m\u001b[0;34m\u001b[0m\u001b[0m\n\u001b[0;32m--> 846\u001b[0;31m                         \u001b[0mleft_keys\u001b[0m\u001b[0;34m.\u001b[0m\u001b[0mappend\u001b[0m\u001b[0;34m(\u001b[0m\u001b[0mleft\u001b[0m\u001b[0;34m.\u001b[0m\u001b[0m_get_label_or_level_values\u001b[0m\u001b[0;34m(\u001b[0m\u001b[0mlk\u001b[0m\u001b[0;34m)\u001b[0m\u001b[0;34m)\u001b[0m\u001b[0;34m\u001b[0m\u001b[0;34m\u001b[0m\u001b[0m\n\u001b[0m\u001b[1;32m    847\u001b[0m                         \u001b[0mjoin_names\u001b[0m\u001b[0;34m.\u001b[0m\u001b[0mappend\u001b[0m\u001b[0;34m(\u001b[0m\u001b[0mlk\u001b[0m\u001b[0;34m)\u001b[0m\u001b[0;34m\u001b[0m\u001b[0;34m\u001b[0m\u001b[0m\n\u001b[1;32m    848\u001b[0m                     \u001b[0;32melse\u001b[0m\u001b[0;34m:\u001b[0m\u001b[0;34m\u001b[0m\u001b[0;34m\u001b[0m\u001b[0m\n",
      "\u001b[0;32m~/anaconda3/envs/Own/lib/python3.7/site-packages/pandas/core/generic.py\u001b[0m in \u001b[0;36m_get_label_or_level_values\u001b[0;34m(self, key, axis)\u001b[0m\n\u001b[1;32m   1704\u001b[0m             \u001b[0mvalues\u001b[0m \u001b[0;34m=\u001b[0m \u001b[0mself\u001b[0m\u001b[0;34m.\u001b[0m\u001b[0maxes\u001b[0m\u001b[0;34m[\u001b[0m\u001b[0maxis\u001b[0m\u001b[0;34m]\u001b[0m\u001b[0;34m.\u001b[0m\u001b[0mget_level_values\u001b[0m\u001b[0;34m(\u001b[0m\u001b[0mkey\u001b[0m\u001b[0;34m)\u001b[0m\u001b[0;34m.\u001b[0m\u001b[0m_values\u001b[0m\u001b[0;34m\u001b[0m\u001b[0;34m\u001b[0m\u001b[0m\n\u001b[1;32m   1705\u001b[0m         \u001b[0;32melse\u001b[0m\u001b[0;34m:\u001b[0m\u001b[0;34m\u001b[0m\u001b[0;34m\u001b[0m\u001b[0m\n\u001b[0;32m-> 1706\u001b[0;31m             \u001b[0;32mraise\u001b[0m \u001b[0mKeyError\u001b[0m\u001b[0;34m(\u001b[0m\u001b[0mkey\u001b[0m\u001b[0;34m)\u001b[0m\u001b[0;34m\u001b[0m\u001b[0;34m\u001b[0m\u001b[0m\n\u001b[0m\u001b[1;32m   1707\u001b[0m \u001b[0;34m\u001b[0m\u001b[0m\n\u001b[1;32m   1708\u001b[0m         \u001b[0;31m# Check for duplicates\u001b[0m\u001b[0;34m\u001b[0m\u001b[0;34m\u001b[0m\u001b[0;34m\u001b[0m\u001b[0m\n",
      "\u001b[0;31mKeyError\u001b[0m: 'shop_name'"
     ]
    }
   ],
   "source": [
    "finalDF = finalDF.merge(translatedEnglishList_shop_namedf, on=\"shop_name\")\n",
    "finalDF.drop('shop_name', axis=1, inplace=True)"
   ]
  },
  {
   "cell_type": "code",
   "execution_count": 74,
   "metadata": {},
   "outputs": [
    {
     "ename": "ValueError",
     "evalue": "Location based indexing can only have [labels (MUST BE IN THE INDEX), slices of labels (BOTH endpoints included! Can be slices of integers if the index is integers), listlike of labels, boolean] types",
     "output_type": "error",
     "traceback": [
      "\u001b[0;31m---------------------------------------------------------------------------\u001b[0m",
      "\u001b[0;31mValueError\u001b[0m                                Traceback (most recent call last)",
      "\u001b[0;32m~/anaconda3/envs/Own/lib/python3.7/site-packages/pandas/core/indexing.py\u001b[0m in \u001b[0;36m_has_valid_tuple\u001b[0;34m(self, key)\u001b[0m\n\u001b[1;32m    222\u001b[0m             \u001b[0;32mtry\u001b[0m\u001b[0;34m:\u001b[0m\u001b[0;34m\u001b[0m\u001b[0;34m\u001b[0m\u001b[0m\n\u001b[0;32m--> 223\u001b[0;31m                 \u001b[0mself\u001b[0m\u001b[0;34m.\u001b[0m\u001b[0m_validate_key\u001b[0m\u001b[0;34m(\u001b[0m\u001b[0mk\u001b[0m\u001b[0;34m,\u001b[0m \u001b[0mi\u001b[0m\u001b[0;34m)\u001b[0m\u001b[0;34m\u001b[0m\u001b[0;34m\u001b[0m\u001b[0m\n\u001b[0m\u001b[1;32m    224\u001b[0m             \u001b[0;32mexcept\u001b[0m \u001b[0mValueError\u001b[0m\u001b[0;34m:\u001b[0m\u001b[0;34m\u001b[0m\u001b[0;34m\u001b[0m\u001b[0m\n",
      "\u001b[0;32m~/anaconda3/envs/Own/lib/python3.7/site-packages/pandas/core/indexing.py\u001b[0m in \u001b[0;36m_validate_key\u001b[0;34m(self, key, axis)\u001b[0m\n\u001b[1;32m   1794\u001b[0m \u001b[0;34m\u001b[0m\u001b[0m\n\u001b[0;32m-> 1795\u001b[0;31m         \u001b[0;32mif\u001b[0m \u001b[0mcom\u001b[0m\u001b[0;34m.\u001b[0m\u001b[0mis_bool_indexer\u001b[0m\u001b[0;34m(\u001b[0m\u001b[0mkey\u001b[0m\u001b[0;34m)\u001b[0m\u001b[0;34m:\u001b[0m\u001b[0;34m\u001b[0m\u001b[0;34m\u001b[0m\u001b[0m\n\u001b[0m\u001b[1;32m   1796\u001b[0m             \u001b[0;32mreturn\u001b[0m\u001b[0;34m\u001b[0m\u001b[0;34m\u001b[0m\u001b[0m\n",
      "\u001b[0;32m~/anaconda3/envs/Own/lib/python3.7/site-packages/pandas/core/common.py\u001b[0m in \u001b[0;36mis_bool_indexer\u001b[0;34m(key)\u001b[0m\n\u001b[1;32m    123\u001b[0m                 \u001b[0;32mif\u001b[0m \u001b[0misna\u001b[0m\u001b[0;34m(\u001b[0m\u001b[0mkey\u001b[0m\u001b[0;34m)\u001b[0m\u001b[0;34m.\u001b[0m\u001b[0many\u001b[0m\u001b[0;34m(\u001b[0m\u001b[0;34m)\u001b[0m\u001b[0;34m:\u001b[0m\u001b[0;34m\u001b[0m\u001b[0;34m\u001b[0m\u001b[0m\n\u001b[0;32m--> 124\u001b[0;31m                     \u001b[0;32mraise\u001b[0m \u001b[0mValueError\u001b[0m\u001b[0;34m(\u001b[0m\u001b[0mna_msg\u001b[0m\u001b[0;34m)\u001b[0m\u001b[0;34m\u001b[0m\u001b[0;34m\u001b[0m\u001b[0m\n\u001b[0m\u001b[1;32m    125\u001b[0m                 \u001b[0;32mreturn\u001b[0m \u001b[0;32mFalse\u001b[0m\u001b[0;34m\u001b[0m\u001b[0;34m\u001b[0m\u001b[0m\n",
      "\u001b[0;31mValueError\u001b[0m: cannot index with vector containing NA / NaN values",
      "\nDuring handling of the above exception, another exception occurred:\n",
      "\u001b[0;31mValueError\u001b[0m                                Traceback (most recent call last)",
      "\u001b[0;32m<ipython-input-74-73f57447d1d8>\u001b[0m in \u001b[0;36m<module>\u001b[0;34m\u001b[0m\n\u001b[0;32m----> 1\u001b[0;31m \u001b[0mfinalDF\u001b[0m\u001b[0;34m.\u001b[0m\u001b[0mloc\u001b[0m\u001b[0;34m[\u001b[0m\u001b[0mfinalDF\u001b[0m\u001b[0;34m.\u001b[0m\u001b[0mitem_name\u001b[0m\u001b[0;34m.\u001b[0m\u001b[0mstr\u001b[0m\u001b[0;34m.\u001b[0m\u001b[0mcontains\u001b[0m\u001b[0;34m(\u001b[0m\u001b[0;34m'xbox'\u001b[0m\u001b[0;34m,\u001b[0m \u001b[0mcase\u001b[0m \u001b[0;34m=\u001b[0m \u001b[0;32mFalse\u001b[0m\u001b[0;34m)\u001b[0m\u001b[0;34m,\u001b[0m \u001b[0;34m[\u001b[0m\u001b[0;34m'item_category_id'\u001b[0m\u001b[0;34m,\u001b[0m \u001b[0;34m'item_name'\u001b[0m\u001b[0;34m]\u001b[0m\u001b[0;34m]\u001b[0m\u001b[0;34m.\u001b[0m\u001b[0mhead\u001b[0m\u001b[0;34m(\u001b[0m\u001b[0;36m100\u001b[0m\u001b[0;34m)\u001b[0m\u001b[0;34m\u001b[0m\u001b[0;34m\u001b[0m\u001b[0m\n\u001b[0m",
      "\u001b[0;32m~/anaconda3/envs/Own/lib/python3.7/site-packages/pandas/core/indexing.py\u001b[0m in \u001b[0;36m__getitem__\u001b[0;34m(self, key)\u001b[0m\n\u001b[1;32m   1492\u001b[0m             \u001b[0;32mexcept\u001b[0m \u001b[0;34m(\u001b[0m\u001b[0mKeyError\u001b[0m\u001b[0;34m,\u001b[0m \u001b[0mIndexError\u001b[0m\u001b[0;34m,\u001b[0m \u001b[0mAttributeError\u001b[0m\u001b[0;34m)\u001b[0m\u001b[0;34m:\u001b[0m\u001b[0;34m\u001b[0m\u001b[0;34m\u001b[0m\u001b[0m\n\u001b[1;32m   1493\u001b[0m                 \u001b[0;32mpass\u001b[0m\u001b[0;34m\u001b[0m\u001b[0;34m\u001b[0m\u001b[0m\n\u001b[0;32m-> 1494\u001b[0;31m             \u001b[0;32mreturn\u001b[0m \u001b[0mself\u001b[0m\u001b[0;34m.\u001b[0m\u001b[0m_getitem_tuple\u001b[0m\u001b[0;34m(\u001b[0m\u001b[0mkey\u001b[0m\u001b[0;34m)\u001b[0m\u001b[0;34m\u001b[0m\u001b[0;34m\u001b[0m\u001b[0m\n\u001b[0m\u001b[1;32m   1495\u001b[0m         \u001b[0;32melse\u001b[0m\u001b[0;34m:\u001b[0m\u001b[0;34m\u001b[0m\u001b[0;34m\u001b[0m\u001b[0m\n\u001b[1;32m   1496\u001b[0m             \u001b[0;31m# we by definition only have the 0th axis\u001b[0m\u001b[0;34m\u001b[0m\u001b[0;34m\u001b[0m\u001b[0;34m\u001b[0m\u001b[0m\n",
      "\u001b[0;32m~/anaconda3/envs/Own/lib/python3.7/site-packages/pandas/core/indexing.py\u001b[0m in \u001b[0;36m_getitem_tuple\u001b[0;34m(self, tup)\u001b[0m\n\u001b[1;32m    871\u001b[0m \u001b[0;34m\u001b[0m\u001b[0m\n\u001b[1;32m    872\u001b[0m         \u001b[0;31m# no multi-index, so validate all of the indexers\u001b[0m\u001b[0;34m\u001b[0m\u001b[0;34m\u001b[0m\u001b[0;34m\u001b[0m\u001b[0m\n\u001b[0;32m--> 873\u001b[0;31m         \u001b[0mself\u001b[0m\u001b[0;34m.\u001b[0m\u001b[0m_has_valid_tuple\u001b[0m\u001b[0;34m(\u001b[0m\u001b[0mtup\u001b[0m\u001b[0;34m)\u001b[0m\u001b[0;34m\u001b[0m\u001b[0;34m\u001b[0m\u001b[0m\n\u001b[0m\u001b[1;32m    874\u001b[0m \u001b[0;34m\u001b[0m\u001b[0m\n\u001b[1;32m    875\u001b[0m         \u001b[0;31m# ugly hack for GH #836\u001b[0m\u001b[0;34m\u001b[0m\u001b[0;34m\u001b[0m\u001b[0;34m\u001b[0m\u001b[0m\n",
      "\u001b[0;32m~/anaconda3/envs/Own/lib/python3.7/site-packages/pandas/core/indexing.py\u001b[0m in \u001b[0;36m_has_valid_tuple\u001b[0;34m(self, key)\u001b[0m\n\u001b[1;32m    225\u001b[0m                 raise ValueError(\"Location based indexing can only have \"\n\u001b[1;32m    226\u001b[0m                                  \u001b[0;34m\"[{types}] types\"\u001b[0m\u001b[0;34m\u001b[0m\u001b[0;34m\u001b[0m\u001b[0m\n\u001b[0;32m--> 227\u001b[0;31m                                  .format(types=self._valid_types))\n\u001b[0m\u001b[1;32m    228\u001b[0m \u001b[0;34m\u001b[0m\u001b[0m\n\u001b[1;32m    229\u001b[0m     \u001b[0;32mdef\u001b[0m \u001b[0m_is_nested_tuple_indexer\u001b[0m\u001b[0;34m(\u001b[0m\u001b[0mself\u001b[0m\u001b[0;34m,\u001b[0m \u001b[0mtup\u001b[0m\u001b[0;34m)\u001b[0m\u001b[0;34m:\u001b[0m\u001b[0;34m\u001b[0m\u001b[0;34m\u001b[0m\u001b[0m\n",
      "\u001b[0;31mValueError\u001b[0m: Location based indexing can only have [labels (MUST BE IN THE INDEX), slices of labels (BOTH endpoints included! Can be slices of integers if the index is integers), listlike of labels, boolean] types"
     ]
    }
   ],
   "source": [
    "finalDF.loc[finalDF.item_name.str.contains('xbox', case = False), ['item_category_id', 'item_name']].head(100)"
   ]
  },
  {
   "cell_type": "markdown",
   "metadata": {},
   "source": [
    "Converting **item_name**"
   ]
  },
  {
   "cell_type": "code",
   "execution_count": null,
   "metadata": {},
   "outputs": [],
   "source": [
    "unique_item_name = pd.unique(finalDF.item_name)\n",
    "unique_item_name = list(unique_item_name)\n",
    "unique_item_name"
   ]
  },
  {
   "cell_type": "code",
   "execution_count": null,
   "metadata": {},
   "outputs": [],
   "source": [
    "len(unique_item_name)"
   ]
  },
  {
   "cell_type": "code",
   "execution_count": null,
   "metadata": {},
   "outputs": [],
   "source": [
    "unique_item_name_df = pd.DataFrame({'item_name': unique_item_name})"
   ]
  },
  {
   "cell_type": "code",
   "execution_count": null,
   "metadata": {},
   "outputs": [],
   "source": [
    "finalDF.head()"
   ]
  },
  {
   "cell_type": "code",
   "execution_count": null,
   "metadata": {},
   "outputs": [],
   "source": [
    "unique_item_name_df['item_category'] = 0\n",
    "item_type_check = {'pc': 1,\n",
    "                   'PC': 1,\n",
    "                   ' MAC': 2,\n",
    "                   '[[(]MAC': 2,\n",
    "                   'Mac': 2,\n",
    "                   'xbox': 3,\n",
    "                   'XBOX': 3,\n",
    "                   'X-Box': 3,\n",
    "                   'X360': 3,\n",
    "                   'ps[0-9]': 4,\n",
    "                   'Ps[0-9]': 4,\n",
    "                   'PS[0-9]': 4,\n",
    "                   'Android': 5,\n",
    "                   'android': 5,\n",
    "                   'ANDROID': 5,\n",
    "                   'PSP': 6,\n",
    "                   'psp': 6,\n",
    "                   'Psp': 6,\n",
    "                   'BD': 7,\n",
    "                   'КНИГА': 8,\n",
    "                   'mp3': 9,\n",
    "                   'N1NTENDО': 10,\n",
    "                   'CD\\+\\DVD': 11,\n",
    "                   'windows': 12,\n",
    "                   'Windows': 12,\n",
    "                   'WINDOWS': 12,\n",
    "                   'linux': 13,\n",
    "                   'Linux': 13,\n",
    "                   'LINUX': 13\n",
    "                   \n",
    "}"
   ]
  },
  {
   "cell_type": "code",
   "execution_count": null,
   "metadata": {},
   "outputs": [],
   "source": [
    "item_type_check_correction = {'Machine': 0,\n",
    "                              '[0-9]CD': 11\n",
    "                             }"
   ]
  },
  {
   "cell_type": "code",
   "execution_count": null,
   "metadata": {
    "scrolled": true
   },
   "outputs": [],
   "source": [
    "for platform, category in item_type_check.items():\n",
    "    unique_item_name_df.item_category[unique_item_name_df.item_name.str.contains(platform, \n",
    "                                                                                 regex=True)] = category"
   ]
  },
  {
   "cell_type": "code",
   "execution_count": null,
   "metadata": {},
   "outputs": [],
   "source": [
    "for platform, category in item_type_check_correction.items():\n",
    "    unique_item_name_df.item_category[unique_item_name_df.item_name.str.contains(platform,\n",
    "                                                                                 case = False,\n",
    "                                                                                 regex=True)] = category"
   ]
  },
  {
   "cell_type": "code",
   "execution_count": null,
   "metadata": {},
   "outputs": [],
   "source": [
    "unique_item_name_df[unique_item_name_df.item_name.str.contains('mac', case=False, regex=True)].head(1000)"
   ]
  },
  {
   "cell_type": "code",
   "execution_count": null,
   "metadata": {
    "scrolled": true
   },
   "outputs": [],
   "source": [
    "unique_item_name_df[unique_item_name_df.item_category == 0].shape"
   ]
  },
  {
   "cell_type": "code",
   "execution_count": null,
   "metadata": {
    "scrolled": true
   },
   "outputs": [],
   "source": [
    "unique_item_name_df[unique_item_name_df.item_category == 0].head(1000)"
   ]
  },
  {
   "cell_type": "code",
   "execution_count": null,
   "metadata": {},
   "outputs": [],
   "source": [
    "unique_item_name_df.iloc[2909:2911]"
   ]
  },
  {
   "cell_type": "markdown",
   "metadata": {},
   "source": [
    "Converting item name from russian to english"
   ]
  },
  {
   "cell_type": "code",
   "execution_count": null,
   "metadata": {},
   "outputs": [],
   "source": [
    "# test = []\n",
    "# global k\n",
    "# k = -1\n",
    "# def iterOver_unique_item_name(k):\n",
    "#     try:\n",
    "#         for i in range(k, len(unique_item_name)):\n",
    "#             k = k + 1\n",
    "#             print(k)\n",
    "#             test.append(translator.translate(unique_item_name[i]).text)\n",
    "            \n",
    "#     except:\n",
    "#         test.append(unique_item_name[k-1])\n",
    "#         k = k + 1\n",
    "#         print(k)\n",
    "#         iterOver_unique_item_name(k)\n",
    "#         pass\n",
    "        \n",
    "# iterOver_unique_item_name(k)"
   ]
  },
  {
   "cell_type": "code",
   "execution_count": null,
   "metadata": {},
   "outputs": [],
   "source": [
    "# translatedEnglishList_item_name = []\n",
    "# for i in translatedList_item_name:\n",
    "#     translatedEnglishList_item_name.append((i.origin, i.text))\n",
    "# translatedEnglishList_item_namedf = pd.DataFrame({\"shop_name\": [translatedEnglishList_item_name[k][0] for k in range(len(translatedEnglishList_item_name))],\n",
    "#                                        \"en_shop_name\": [translatedEnglishList_item_name[k][1] for k in range(len(translatedEnglishList_item_name))]\n",
    "#                                        })"
   ]
  },
  {
   "cell_type": "code",
   "execution_count": 65,
   "metadata": {},
   "outputs": [],
   "source": [
    "# translatedEnglishList_item_namedf[translatedEnglishList_item_namedf['shop_name'] == \\\n",
    "#                                   translatedEnglishList_item_namedf['en_shop_name']]"
   ]
  },
  {
   "cell_type": "markdown",
   "metadata": {},
   "source": [
    "Dropping columns"
   ]
  },
  {
   "cell_type": "code",
   "execution_count": 66,
   "metadata": {},
   "outputs": [],
   "source": [
    "columnslist = list(finalDF.columns)"
   ]
  },
  {
   "cell_type": "code",
   "execution_count": 67,
   "metadata": {},
   "outputs": [
    {
     "name": "stdout",
     "output_type": "stream",
     "text": [
      "date_block_num  -- > \n",
      " [ 0  3  5  6  8  9 10 12 14 15 16 18 20 26  1 30 22 23  7 17 25  4 11 24\n",
      " 27  2 19 32 13 21 28 29 31 33] \n",
      " 34 \n",
      " \n",
      "\n",
      "shop_id  -- > \n",
      " [59 24 27 25  6 15  7 31 54 42 38 37 46 44 51 16  1  0 28 57 23 58 56 35\n",
      " 47 21 22 19 18  8 30 41 45 32 29 50 53 43 17  2 52 13 14  3 10 12 26  5\n",
      "  4 39 48 49 34 11 36 33  9 40 20 55] \n",
      " 60 \n",
      " \n",
      "\n",
      "item_id  -- > \n",
      " [22154   944   965 ... 13091 13094 13092] \n",
      " 21804 \n",
      " \n",
      "\n",
      "item_price  -- > \n",
      " [ 999.          150.          199.5        ... 2266.33333333 2485.28571429\n",
      "  912.75      ] \n",
      " 19977 \n",
      " \n",
      "\n",
      "item_cnt_day  -- > \n",
      " [ 1.000e+00  2.000e+00  3.000e+00  4.000e+00  5.000e+00  2.000e+01\n",
      "  1.400e+01  6.000e+00  1.000e+01  9.000e+00  8.000e+00  7.000e+00\n",
      "  2.600e+01  3.900e+01  2.800e+01  1.300e+01  1.700e+01  2.700e+01\n",
      "  1.600e+01  1.900e+01  1.200e+01  3.100e+01  1.100e+01  1.500e+01\n",
      "  8.000e+01  1.800e+01  2.100e+01  5.600e+01 -2.000e+00  3.400e+01\n",
      "  2.200e+01  2.900e+01  4.500e+01  3.200e+01  8.300e+01  3.800e+01\n",
      "  2.300e+01  2.400e+01  2.500e+01  5.200e+01  4.050e+02  3.600e+01\n",
      "  7.800e+01  4.700e+01  4.600e+01  5.000e+01  3.000e+01  1.510e+02\n",
      "  7.500e+01  4.200e+01  3.700e+01  3.300e+01  5.400e+01  5.500e+01\n",
      "  3.500e+01  4.800e+01  6.200e+01  5.900e+01  6.400e+01  7.900e+01\n",
      "  6.000e+01  4.100e+01  6.500e+01  6.300e+01  5.100e+01  4.010e+02\n",
      "  5.020e+02  7.200e+01  1.100e+02  7.700e+01  2.640e+02  4.000e+01\n",
      "  8.400e+01  8.700e+01  4.300e+01  1.480e+02  7.000e+01  7.100e+01\n",
      "  1.330e+02  6.900e+01  4.400e+01  2.070e+02  8.200e+01  5.300e+01\n",
      "  6.800e+01  9.100e+01  5.010e+02  4.900e+01  2.050e+02  6.700e+01\n",
      "  2.220e+02  8.500e+01  7.400e+01  9.300e+01  1.470e+02  1.340e+02\n",
      "  7.600e+01  1.180e+02  5.700e+01  1.380e+02 -3.000e+00  8.100e+01\n",
      " -5.000e+00  8.900e+01  1.940e+02  2.550e+02  1.000e+02  1.530e+02\n",
      "  1.710e+02  5.800e+01  2.880e+02  1.270e+02  6.100e+01  1.170e+02\n",
      "  9.000e+01  8.800e+01  7.300e+01  8.600e+01  1.070e+02  1.060e+02\n",
      "  3.000e+02  3.130e+02  1.040e+02  2.170e+02 -6.000e+00  1.130e+02\n",
      "  1.790e+02  2.990e+02  1.010e+02  1.120e+02  1.030e+02  1.420e+02\n",
      "  2.300e+02  1.640e+02  6.600e+01  1.310e+02 -4.000e+00  9.800e+01\n",
      "  1.020e+02  2.510e+02  9.200e+01  1.210e+02  1.560e+02  1.450e+02\n",
      "  2.400e+02  1.680e+02  1.670e+02 -1.600e+01  1.090e+02  9.700e+01\n",
      "  4.800e+02  2.000e+02  1.500e+02  6.240e+02  1.260e+02  1.300e+02\n",
      "  1.400e+02 -2.200e+01  5.000e+02  1.000e+03  1.870e+02  1.240e+02\n",
      "  1.490e+02  1.320e+02  1.950e+02  5.120e+02 -9.000e+00  1.140e+02\n",
      "  1.570e+02  6.690e+02  5.040e+02  1.390e+02  1.460e+02  1.610e+02\n",
      "  1.110e+02  9.600e+01  2.420e+02  1.050e+02  1.080e+02  5.390e+02\n",
      "  9.500e+01  2.169e+03  9.900e+01  1.150e+02  1.630e+02  3.430e+02\n",
      "  1.350e+02  1.540e+02  5.330e+02  6.370e+02  3.250e+02  1.280e+02\n",
      "  4.120e+02  5.080e+02  1.160e+02  1.290e+02  2.310e+02] \n",
      " 197 \n",
      " \n",
      "\n",
      "item_name  -- > \n",
      " ['ЯВЛЕНИЕ 2012 (BD)' '2012 (BD)' '28 ДНЕЙ СПУСТЯ (BD)' ...\n",
      " 'Карта оплаты Windows: 1000 рублей [Цифровая версия]'\n",
      " 'Карта оплаты Windows: 2500 рублей [Цифровая версия]'\n",
      " 'Карта оплаты Windows: 2000 рублей [Цифровая версия]'] \n",
      " 21804 \n",
      " \n",
      "\n",
      "item_category_id  -- > \n",
      " [37 58 56 59 55 23 19 28 30 21 40 75 49 29 22 67 73 77 57 60  4 62 43 15\n",
      "  2  3  5 35 33  6 38 25 14 45 41 66 11 69 65 64 79 63 70 13 83 72 61 71\n",
      " 32 39 12 20 17  8 16 24  7 47 42 80 68 82 81  0 46 53 18 51 48  1 50  9\n",
      " 10 52 31 76 78 54 44 34 74 26 27 36] \n",
      " 84 \n",
      " \n",
      "\n",
      "day  -- > \n",
      " ['02' '26' '20' '14' '21' '06' '30' '12' '09' '10' '16' '08' '28' '04'\n",
      " '05' '27' '13' '23' '24' '29' '03' '22' '19' '01' '18' '07' '15' '17'\n",
      " '31' '25' '11'] \n",
      " 31 \n",
      " \n",
      "\n",
      "month  -- > \n",
      " ['01' '04' '06' '07' '09' '10' '11' '03' '05' '02' '12' '08'] \n",
      " 12 \n",
      " \n",
      "\n",
      "year  -- > \n",
      " ['2013' '2014' '2015'] \n",
      " 3 \n",
      " \n",
      "\n",
      "en_item_category_name  -- > \n",
      " ['Cinema - Blu-ray' 'Music - Vinyl' 'Music - CD branded production'\n",
      " 'Music - Music Video' 'Music - Local Production CD' 'Games - XBOX 360'\n",
      " 'Games - PS3' 'PC Games - Additional Editions'\n",
      " 'PC Games - Standard Editions' 'Games - PSP' 'Cinema - DVD'\n",
      " 'Programs - Home and Office' 'Books - Methodical materials 1C'\n",
      " 'PC Games - Collectible Editions' 'Games - PSVita' 'Gifts - Development'\n",
      " 'Programs - 1C: Enterprise 8' 'Programs - Educational' 'Music - MP3'\n",
      " 'Music - Gift Edition' 'Accessories - PSP'\n",
      " 'Gifts - Gadgets, Robots, Sports' 'Books - Audiobooks'\n",
      " 'Gaming Consoles - XBOX 360' 'Accessories - PS3' 'Accessories - PS4'\n",
      " 'Accessories - PSVita' 'Payment Cards - PSN' 'Payment Cards - Live!'\n",
      " 'Accessories - XBOX 360' 'The Movie - Blu-Ray 3D'\n",
      " 'Games - Accessories for games' 'Game Consoles - PSVita'\n",
      " 'Books - Audiobooks 1C' 'Cinema - Collection' 'Gifts - Cards, stickers'\n",
      " 'Game Consoles - PS3' 'Gifts - Souvenirs' 'Gifts - Board Games (Compact)'\n",
      " 'Gifts - Board Games' 'Service' 'Gifts - Soft Toys'\n",
      " 'Gifts - Souvenirs (in a hitch)' 'Gaming Consoles - PSP' 'Batteries'\n",
      " 'Gifts - Figures' 'Gifts - Attributes' 'Gifts - Bags, Albums, Mouse pads'\n",
      " 'Payment cards (Cinema, Music, Games)' 'Cinema - Blu-ray 4K'\n",
      " 'Game Consoles - PS4' 'Games - PS4' 'Game Consoles - Other'\n",
      " 'Tickets (Digital)' 'Gaming Consoles - XBOX ONE' 'Games - XBOX ONE'\n",
      " 'Accessories - XBOX ONE' 'Books - Comics, Manga'\n",
      " 'Books - Artbooks, encyclopedias' 'Service Tickets'\n",
      " 'Gifts - Certificates, Services' 'Clean Media (Piece)'\n",
      " 'Clean media (spire)' 'PC - Headsets / Headphones'\n",
      " 'Books - Business Books' 'Books - Fiction' 'Games - PS2'\n",
      " 'Books - Cognitive Literature' 'Books - Computer Literature'\n",
      " 'Accessories - PS2' 'Books - Postcards' 'Delivery of goods'\n",
      " 'Game Consoles - PS2' 'Books - Travel Guides' 'PC Games - Digital'\n",
      " 'Programs - Home and Office (Digital)' 'Programs - Educational (Figure)'\n",
      " 'Books - The Figure' 'Books - Audiobooks (Figure)'\n",
      " 'Payment Cards - Live! (Numeral)' 'Programs - MAC (Digit)'\n",
      " 'Android Games - Digital' 'MAC Games - Digit'\n",
      " 'Payment Cards - Windows (Digital)'] \n",
      " 84 \n",
      " \n",
      "\n",
      "en_shop_name  -- > \n",
      " ['Yaroslavl shopping center \"Altair\"' 'Moscow TC \"Budenovsky\" (pav. K7)'\n",
      " 'Moscow TC \"MEGA Belaya Dacha II\"' 'Moscow TRK \"Atrium\"'\n",
      " 'Voronezh (Plekhanovskaya, 13)' 'Kaluga TRC \"XXI Century\"'\n",
      " 'Voronezh TRC \"Maksimir\"' 'Moscow shopping center \"Semenovsky\"'\n",
      " 'Khimki TC \"Mega\"' 'St. Petersburg TC \"Nevsky Center\"' 'Omsk TC \"Mega\"'\n",
      " 'Novosibirsk TC \"Mega\"' 'Sergiev Posad Shopping Center \"7YA\"'\n",
      " 'Samara Shopping Center \"Melody\"' 'Tyumen TC \"Green Coast\"'\n",
      " 'Colombo TC \"Rio\"' '! Yakutsk Shopping Center \"Central\" fran'\n",
      " '! Yakutsk Ordzhonikidze, 56 fran' 'Moscow TC \"MEGA Teply Stan\" II'\n",
      " 'Yakutsk Ordzhonikidze, 56' 'Moscow TC \"Budenovsky\" (pav.A2)'\n",
      " 'Yakutsk shopping center \"Central\"' 'Chekhov SEC \"Carnival\"'\n",
      " 'N.Novgorod SEC \"Fantastic\"' 'Surgut SEC \"City Mall\"'\n",
      " 'Moscow MTRC \"Afi Mall\"' 'Moscow Shop C21' 'Kursk TC \"Pushkinsky\"'\n",
      " 'Krasnoyarsk shopping center \"June\"' 'Voronezh TRC City-Park \"Grad\"'\n",
      " 'Moscow Shopping Center \"Perlovsky\"' 'RostovNaDonu TC \"Mega\"'\n",
      " 'Samara TC \"ParkHaus\"' 'Moscow shopping center \"Silver House\"'\n",
      " 'Moscow shopping center \"New Century\" (Novokosino)'\n",
      " 'Tyumen shopping center \"Goodwin\"' 'Ufa shopping center \"Family\" 2'\n",
      " 'St. Petersburg TC \"Sennaya\"'\n",
      " 'Krasnoyarsk shopping center \"Vzletka Plaza\"'\n",
      " 'Adygea shopping center \"Mega\"' 'Ufa TC \"Central\"' 'Kazan TC \"Bahetle\"'\n",
      " 'Kazan TC \"ParkHouse\" II' 'Balashikha October \"Kinomir\"'\n",
      " 'Zhukovsky st. Chkalov 39m?' 'Online Emergency Store'\n",
      " 'Moscow TC \"Areal\" (Belyaevo)' 'Vologda shopping center \"Marmalade\"'\n",
      " 'Volzhsky shopping center \"Volga Mall\"' 'RostovFor MegaCenter Horizon'\n",
      " 'Tomsk SEC \"Emerald City\"' 'Tyumen SEC \"Crystal\"'\n",
      " 'N.Novgorod shopping center \"RIO\"' 'Zhukovsky st. Chkalov 39m²'\n",
      " 'Novosibirsk SEC \"Gallery Novosibirsk\"' 'Mytishchi TRC \"XL-3\"'\n",
      " 'Outbound Trading' 'RostovNaDonu TRK \"Megacenter Horizon\" Ostrovnoy'\n",
      " 'Moscow \"Sale\"' 'Digital warehouse 1C-Online'] \n",
      " 60 \n",
      " \n",
      "\n"
     ]
    }
   ],
   "source": [
    "for column in columnslist:\n",
    "    print(column, \" -- > \\n\", pd.unique(finalDF[column]), \"\\n\", len(pd.unique(finalDF[column])), \"\\n \\n\")"
   ]
  },
  {
   "cell_type": "markdown",
   "metadata": {},
   "source": [
    "### Dropping columns"
   ]
  },
  {
   "cell_type": "code",
   "execution_count": 68,
   "metadata": {},
   "outputs": [
    {
     "data": {
      "text/html": [
       "<div>\n",
       "<style scoped>\n",
       "    .dataframe tbody tr th:only-of-type {\n",
       "        vertical-align: middle;\n",
       "    }\n",
       "\n",
       "    .dataframe tbody tr th {\n",
       "        vertical-align: top;\n",
       "    }\n",
       "\n",
       "    .dataframe thead th {\n",
       "        text-align: right;\n",
       "    }\n",
       "</style>\n",
       "<table border=\"1\" class=\"dataframe\">\n",
       "  <thead>\n",
       "    <tr style=\"text-align: right;\">\n",
       "      <th></th>\n",
       "      <th>date_block_num</th>\n",
       "      <th>shop_id</th>\n",
       "      <th>item_id</th>\n",
       "      <th>item_price</th>\n",
       "      <th>item_cnt_day</th>\n",
       "      <th>item_name</th>\n",
       "      <th>item_category_id</th>\n",
       "      <th>day</th>\n",
       "      <th>month</th>\n",
       "      <th>year</th>\n",
       "      <th>en_item_category_name</th>\n",
       "      <th>en_shop_name</th>\n",
       "    </tr>\n",
       "  </thead>\n",
       "  <tbody>\n",
       "    <tr>\n",
       "      <th>0</th>\n",
       "      <td>0</td>\n",
       "      <td>59</td>\n",
       "      <td>22154</td>\n",
       "      <td>999.0</td>\n",
       "      <td>1.0</td>\n",
       "      <td>ЯВЛЕНИЕ 2012 (BD)</td>\n",
       "      <td>37</td>\n",
       "      <td>02</td>\n",
       "      <td>01</td>\n",
       "      <td>2013</td>\n",
       "      <td>Cinema - Blu-ray</td>\n",
       "      <td>Yaroslavl shopping center \"Altair\"</td>\n",
       "    </tr>\n",
       "    <tr>\n",
       "      <th>1</th>\n",
       "      <td>3</td>\n",
       "      <td>59</td>\n",
       "      <td>944</td>\n",
       "      <td>150.0</td>\n",
       "      <td>1.0</td>\n",
       "      <td>2012 (BD)</td>\n",
       "      <td>37</td>\n",
       "      <td>26</td>\n",
       "      <td>04</td>\n",
       "      <td>2013</td>\n",
       "      <td>Cinema - Blu-ray</td>\n",
       "      <td>Yaroslavl shopping center \"Altair\"</td>\n",
       "    </tr>\n",
       "    <tr>\n",
       "      <th>2</th>\n",
       "      <td>5</td>\n",
       "      <td>59</td>\n",
       "      <td>944</td>\n",
       "      <td>199.5</td>\n",
       "      <td>1.0</td>\n",
       "      <td>2012 (BD)</td>\n",
       "      <td>37</td>\n",
       "      <td>26</td>\n",
       "      <td>06</td>\n",
       "      <td>2013</td>\n",
       "      <td>Cinema - Blu-ray</td>\n",
       "      <td>Yaroslavl shopping center \"Altair\"</td>\n",
       "    </tr>\n",
       "    <tr>\n",
       "      <th>3</th>\n",
       "      <td>6</td>\n",
       "      <td>59</td>\n",
       "      <td>944</td>\n",
       "      <td>199.5</td>\n",
       "      <td>1.0</td>\n",
       "      <td>2012 (BD)</td>\n",
       "      <td>37</td>\n",
       "      <td>20</td>\n",
       "      <td>07</td>\n",
       "      <td>2013</td>\n",
       "      <td>Cinema - Blu-ray</td>\n",
       "      <td>Yaroslavl shopping center \"Altair\"</td>\n",
       "    </tr>\n",
       "    <tr>\n",
       "      <th>4</th>\n",
       "      <td>8</td>\n",
       "      <td>59</td>\n",
       "      <td>944</td>\n",
       "      <td>299.0</td>\n",
       "      <td>2.0</td>\n",
       "      <td>2012 (BD)</td>\n",
       "      <td>37</td>\n",
       "      <td>14</td>\n",
       "      <td>09</td>\n",
       "      <td>2013</td>\n",
       "      <td>Cinema - Blu-ray</td>\n",
       "      <td>Yaroslavl shopping center \"Altair\"</td>\n",
       "    </tr>\n",
       "  </tbody>\n",
       "</table>\n",
       "</div>"
      ],
      "text/plain": [
       "   date_block_num  shop_id  item_id  item_price  item_cnt_day  \\\n",
       "0               0       59    22154       999.0           1.0   \n",
       "1               3       59      944       150.0           1.0   \n",
       "2               5       59      944       199.5           1.0   \n",
       "3               6       59      944       199.5           1.0   \n",
       "4               8       59      944       299.0           2.0   \n",
       "\n",
       "           item_name  item_category_id day month  year en_item_category_name  \\\n",
       "0  ЯВЛЕНИЕ 2012 (BD)                37  02    01  2013      Cinema - Blu-ray   \n",
       "1          2012 (BD)                37  26    04  2013      Cinema - Blu-ray   \n",
       "2          2012 (BD)                37  26    06  2013      Cinema - Blu-ray   \n",
       "3          2012 (BD)                37  20    07  2013      Cinema - Blu-ray   \n",
       "4          2012 (BD)                37  14    09  2013      Cinema - Blu-ray   \n",
       "\n",
       "                         en_shop_name  \n",
       "0  Yaroslavl shopping center \"Altair\"  \n",
       "1  Yaroslavl shopping center \"Altair\"  \n",
       "2  Yaroslavl shopping center \"Altair\"  \n",
       "3  Yaroslavl shopping center \"Altair\"  \n",
       "4  Yaroslavl shopping center \"Altair\"  "
      ]
     },
     "execution_count": 68,
     "metadata": {},
     "output_type": "execute_result"
    }
   ],
   "source": [
    "finalDF.head()"
   ]
  },
  {
   "cell_type": "code",
   "execution_count": null,
   "metadata": {},
   "outputs": [],
   "source": []
  }
 ],
 "metadata": {
  "kernelspec": {
   "display_name": "Python 3",
   "language": "python",
   "name": "python3"
  },
  "language_info": {
   "codemirror_mode": {
    "name": "ipython",
    "version": 3
   },
   "file_extension": ".py",
   "mimetype": "text/x-python",
   "name": "python",
   "nbconvert_exporter": "python",
   "pygments_lexer": "ipython3",
   "version": "3.7.3"
  }
 },
 "nbformat": 4,
 "nbformat_minor": 2
}
